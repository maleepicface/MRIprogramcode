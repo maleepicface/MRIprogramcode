{
 "cells": [
  {
   "cell_type": "markdown",
   "id": "ab82e536",
   "metadata": {},
   "source": [
    "# Introduction to Regression with Neural Networks in TensorFlow\n",
    "\n",
    "There are many definitions for a regression problem, but in our case, we're going to simplify it: predicting a numerical variable based on some other combination of variables, even shorter... predicting a number."
   ]
  },
  {
   "cell_type": "code",
   "execution_count": 74,
   "id": "54044c2e",
   "metadata": {},
   "outputs": [
    {
     "name": "stdout",
     "output_type": "stream",
     "text": [
      "2.3.0\n"
     ]
    }
   ],
   "source": [
    "# Import TensorFlow\n",
    "import tensorflow as tf\n",
    "print(tf.__version__)"
   ]
  },
  {
   "cell_type": "markdown",
   "id": "f7e356ab",
   "metadata": {},
   "source": [
    "## Creating data to view and fit"
   ]
  },
  {
   "cell_type": "code",
   "execution_count": 75,
   "id": "daf941ec",
   "metadata": {},
   "outputs": [
    {
     "data": {
      "text/plain": [
       "<matplotlib.collections.PathCollection at 0x2223ed26f70>"
      ]
     },
     "execution_count": 75,
     "metadata": {},
     "output_type": "execute_result"
    },
    {
     "data": {
      "image/png": "[encoded data removed]",
      "text/plain": [
       "<Figure size 432x288 with 1 Axes>"
      ]
     },
     "metadata": {
      "needs_background": "light"
     },
     "output_type": "display_data"
    }
   ],
   "source": [
    "import numpy as np\n",
    "import matplotlib.pyplot as plt\n",
    "\n",
    "# Create features\n",
    "X = np.array([-7.0,-4.0,-1.0,2.0,5.0,8.0,11.0,14.0])\n",
    "\n",
    "# Create labels\n",
    "y = np.array([3.0,6.0,9.0,12.0,15.0,18.0,21.0,24.0])\n",
    "\n",
    "# Visualize it\n",
    "plt.scatter(X, y)"
   ]
  },
  {
   "cell_type": "code",
   "execution_count": 76,
   "id": "bc50e44f",
   "metadata": {},
   "outputs": [
    {
     "data": {
      "text/plain": [
       "array([ True,  True,  True,  True,  True,  True,  True,  True])"
      ]
     },
     "execution_count": 76,
     "metadata": {},
     "output_type": "execute_result"
    }
   ],
   "source": [
    "y == X + 10"
   ]
  },
  {
   "cell_type": "markdown",
   "id": "e404a6bf",
   "metadata": {},
   "source": [
    "## Input and output shapes"
   ]
  },
  {
   "cell_type": "code",
   "execution_count": 77,
   "id": "539276a1",
   "metadata": {
    "scrolled": true
   },
   "outputs": [
    {
     "data": {
      "text/plain": [
       "(<tf.Tensor: shape=(3,), dtype=string, numpy=array([b'bedroom', b'bathroom', b'garage'], dtype=object)>,\n",
       " <tf.Tensor: shape=(1,), dtype=int32, numpy=array([939700])>)"
      ]
     },
     "execution_count": 77,
     "metadata": {},
     "output_type": "execute_result"
    }
   ],
   "source": [
    "# Create a demo tensor for our housing price prediction problem\n",
    "house_info = tf.constant(['bedroom', 'bathroom', 'garage'])\n",
    "house_price = tf.constant([939700])\n",
    "house_info, house_price"
   ]
  },
  {
   "cell_type": "code",
   "execution_count": 78,
   "id": "552616aa",
   "metadata": {
    "scrolled": true
   },
   "outputs": [
    {
     "data": {
      "text/plain": [
       "(-7.0, 3.0)"
      ]
     },
     "execution_count": 78,
     "metadata": {},
     "output_type": "execute_result"
    }
   ],
   "source": [
    "X[0], y[0]"
   ]
  },
  {
   "cell_type": "code",
   "execution_count": 79,
   "id": "8b8adcdd",
   "metadata": {},
   "outputs": [
    {
     "data": {
      "text/plain": [
       "(-4.0, 6.0)"
      ]
     },
     "execution_count": 79,
     "metadata": {},
     "output_type": "execute_result"
    }
   ],
   "source": [
    "X[1], y[1]"
   ]
  },
  {
   "cell_type": "code",
   "execution_count": 80,
   "id": "67b98750",
   "metadata": {},
   "outputs": [
    {
     "data": {
      "text/plain": [
       "((), ())"
      ]
     },
     "execution_count": 80,
     "metadata": {},
     "output_type": "execute_result"
    }
   ],
   "source": [
    "input_shape = X[0].shape\n",
    "output_shape = y[0].shape\n",
    "input_shape, output_shape"
   ]
  },
  {
   "cell_type": "code",
   "execution_count": 81,
   "id": "1a4f970d",
   "metadata": {},
   "outputs": [
    {
     "data": {
      "text/plain": [
       "0"
      ]
     },
     "execution_count": 81,
     "metadata": {},
     "output_type": "execute_result"
    }
   ],
   "source": [
    "X[0].ndim"
   ]
  },
  {
   "cell_type": "code",
   "execution_count": 82,
   "id": "d98d6a98",
   "metadata": {},
   "outputs": [
    {
     "data": {
      "text/plain": [
       "(-7.0, 3.0)"
      ]
     },
     "execution_count": 82,
     "metadata": {},
     "output_type": "execute_result"
    }
   ],
   "source": [
    "X[0], y[0]"
   ]
  },
  {
   "cell_type": "code",
   "execution_count": 83,
   "id": "1bf964ad",
   "metadata": {},
   "outputs": [
    {
     "data": {
      "text/plain": [
       "(<tf.Tensor: shape=(8,), dtype=float32, numpy=array([-7., -4., -1.,  2.,  5.,  8., 11., 14.], dtype=float32)>,\n",
       " <tf.Tensor: shape=(8,), dtype=float32, numpy=array([ 3.,  6.,  9., 12., 15., 18., 21., 24.], dtype=float32)>)"
      ]
     },
     "execution_count": 83,
     "metadata": {},
     "output_type": "execute_result"
    }
   ],
   "source": [
    "# Turn our NumPy arrays into tensors with dtype float32\n",
    "X = tf.cast(tf.constant(X), dtype=tf.float32)\n",
    "y = tf.cast(tf.constant(y), dtype=tf.float32)\n",
    "X, y"
   ]
  },
  {
   "cell_type": "code",
   "execution_count": 84,
   "id": "37b7ff65",
   "metadata": {},
   "outputs": [
    {
     "data": {
      "text/plain": [
       "(TensorShape([]), TensorShape([]))"
      ]
     },
     "execution_count": 84,
     "metadata": {},
     "output_type": "execute_result"
    }
   ],
   "source": [
    "input_shape = X[0].shape\n",
    "output_shape = y[0].shape\n",
    "input_shape, output_shape"
   ]
  },
  {
   "cell_type": "code",
   "execution_count": 85,
   "id": "8e1b3b1b",
   "metadata": {},
   "outputs": [
    {
     "data": {
      "text/plain": [
       "<matplotlib.collections.PathCollection at 0x2223eb975b0>"
      ]
     },
     "execution_count": 85,
     "metadata": {},
     "output_type": "execute_result"
    },
    {
     "data": {
      "image/png": "[encoded data removed]",
      "text/plain": [
       "<Figure size 432x288 with 1 Axes>"
      ]
     },
     "metadata": {
      "needs_background": "light"
     },
     "output_type": "display_data"
    }
   ],
   "source": [
    "plt.scatter(X, y)"
   ]
  },
  {
   "cell_type": "markdown",
   "id": "7d7e24d8",
   "metadata": {},
   "source": [
    "## Steps in modeling with TensorFlow\n",
    "\n",
    "1. **Creating a model** - define the input and output layers, as well as the hidden layers of a deep learning model.\n",
    "2. **Compiling a model** - define the loss function (in other words, the function which tells our model how wrong it is) and the optimizer (tells our model how to improve the patterns it's learning) and evaluation metrics (what we can use to interpret the performance of our model).\n",
    "3. **Fitting a model** - letting the model try to find patterns between X & y (features and labels)."
   ]
  },
  {
   "cell_type": "code",
   "execution_count": 86,
   "id": "18f3c030",
   "metadata": {},
   "outputs": [
    {
     "name": "stdout",
     "output_type": "stream",
     "text": [
      "Epoch 1/5\n",
      "1/1 [==============================] - 0s 1ms/step - loss: 11.5048 - mae: 11.5048\n",
      "Epoch 2/5\n",
      "1/1 [==============================] - 0s 501us/step - loss: 11.3723 - mae: 11.3723\n",
      "Epoch 3/5\n",
      "1/1 [==============================] - 0s 501us/step - loss: 11.2398 - mae: 11.2398\n",
      "Epoch 4/5\n",
      "1/1 [==============================] - 0s 0s/step - loss: 11.1073 - mae: 11.1073\n",
      "Epoch 5/5\n",
      "1/1 [==============================] - 0s 500us/step - loss: 10.9748 - mae: 10.9748\n"
     ]
    },
    {
     "data": {
      "text/plain": [
       "<tensorflow.python.keras.callbacks.History at 0x2223eda1eb0>"
      ]
     },
     "execution_count": 86,
     "metadata": {},
     "output_type": "execute_result"
    }
   ],
   "source": [
    "# Set random seed\n",
    "tf.random.set_seed(42)\n",
    "\n",
    "# 1. Create a model using the Sequential API\n",
    "model = tf.keras.Sequential([\n",
    "    tf.keras.layers.Dense(1)\n",
    "])\n",
    "\n",
    "\"\"\"\n",
    "or: \n",
    "model = tf.keras.Sequential()\n",
    "model.add(tf.keras.layers.Dense(1))\n",
    "\"\"\"\n",
    "\n",
    "# 2. Compile the model\n",
    "model.compile(loss=tf.keras.losses.mae, # mae is short for mean absolute error\n",
    "             optimizer=tf.keras.optimizers.SGD(), # SGD is short for stochastic gradient descent\n",
    "             metrics=[\"mae\"])\n",
    "\n",
    "# 3. Fit the model\n",
    "model.fit(X, y, epochs=5)"
   ]
  },
  {
   "cell_type": "code",
   "execution_count": 87,
   "id": "b1a2e6bf",
   "metadata": {},
   "outputs": [
    {
     "data": {
      "text/plain": [
       "(<tf.Tensor: shape=(8,), dtype=float32, numpy=array([-7., -4., -1.,  2.,  5.,  8., 11., 14.], dtype=float32)>,\n",
       " <tf.Tensor: shape=(8,), dtype=float32, numpy=array([ 3.,  6.,  9., 12., 15., 18., 21., 24.], dtype=float32)>)"
      ]
     },
     "execution_count": 87,
     "metadata": {},
     "output_type": "execute_result"
    }
   ],
   "source": [
    "# Check out X and y\n",
    "X, y"
   ]
  },
  {
   "cell_type": "code",
   "execution_count": 88,
   "id": "d7b10c22",
   "metadata": {},
   "outputs": [
    {
     "name": "stdout",
     "output_type": "stream",
     "text": [
      "WARNING:tensorflow:9 out of the last 9 calls to <function Model.make_predict_function.<locals>.predict_function at 0x000002223EEB4670> triggered tf.function retracing. Tracing is expensive and the excessive number of tracings could be due to (1) creating @tf.function repeatedly in a loop, (2) passing tensors with different shapes, (3) passing Python objects instead of tensors. For (1), please define your @tf.function outside of the loop. For (2), @tf.function has experimental_relax_shapes=True option that relaxes argument shapes that can avoid unnecessary retracing. For (3), please refer to https://www.tensorflow.org/tutorials/customization/performance#python_or_tensor_args and https://www.tensorflow.org/api_docs/python/tf/function for  more details.\n"
     ]
    },
    {
     "data": {
      "text/plain": [
       "array([[12.716021]], dtype=float32)"
      ]
     },
     "execution_count": 88,
     "metadata": {},
     "output_type": "execute_result"
    }
   ],
   "source": [
    "# Try and make a prediction using our model\n",
    "y_pred = model.predict([17.0])\n",
    "y_pred"
   ]
  },
  {
   "cell_type": "code",
   "execution_count": 89,
   "id": "e5e2e023",
   "metadata": {},
   "outputs": [
    {
     "data": {
      "text/plain": [
       "array([[23.71602]], dtype=float32)"
      ]
     },
     "execution_count": 89,
     "metadata": {},
     "output_type": "execute_result"
    }
   ],
   "source": [
    "y_pred + 11"
   ]
  },
  {
   "cell_type": "markdown",
   "id": "b918b0b9",
   "metadata": {},
   "source": [
    "## Improving our model\n",
    "\n",
    "We can improve our model by altering the steps we took to create a model.\n",
    "\n",
    "1. **Creating a model** - here we might add more layers, increase the number of hidden units (also called neurons) within each of the hidden layers, or change the activation function of each layer\n",
    "2. **Compiling a model** - here we might change the optimization function  or perhaps the **learning rate** of the optimization function.\n",
    "3. **Fitting a model** - here we might fit a model for some **epochs** (leave it training for longer) or on more data (give the model more examples to learn from)."
   ]
  },
  {
   "cell_type": "code",
   "execution_count": 90,
   "id": "6417ac7e",
   "metadata": {},
   "outputs": [
    {
     "name": "stdout",
     "output_type": "stream",
     "text": [
      "Epoch 1/100\n",
      "1/1 [==============================] - 0s 1ms/step - loss: 11.2219 - mae: 11.2219\n",
      "Epoch 2/100\n",
      "1/1 [==============================] - 0s 501us/step - loss: 11.0894 - mae: 11.0894\n",
      "Epoch 3/100\n",
      "1/1 [==============================] - 0s 500us/step - loss: 10.9569 - mae: 10.9569\n",
      "Epoch 4/100\n",
      "1/1 [==============================] - 0s 501us/step - loss: 10.8244 - mae: 10.8244\n",
      "Epoch 5/100\n",
      "1/1 [==============================] - 0s 501us/step - loss: 10.6919 - mae: 10.6919\n",
      "Epoch 6/100\n",
      "1/1 [==============================] - 0s 499us/step - loss: 10.5594 - mae: 10.5594\n",
      "Epoch 7/100\n",
      "1/1 [==============================] - 0s 1ms/step - loss: 10.4269 - mae: 10.4269\n",
      "Epoch 8/100\n",
      "1/1 [==============================] - 0s 501us/step - loss: 10.2944 - mae: 10.2944\n",
      "Epoch 9/100\n",
      "1/1 [==============================] - 0s 451us/step - loss: 10.1619 - mae: 10.1619\n",
      "Epoch 10/100\n",
      "1/1 [==============================] - 0s 500us/step - loss: 10.0294 - mae: 10.0294\n",
      "Epoch 11/100\n",
      "1/1 [==============================] - 0s 501us/step - loss: 9.8969 - mae: 9.8969\n",
      "Epoch 12/100\n",
      "1/1 [==============================] - 0s 500us/step - loss: 9.7644 - mae: 9.7644\n",
      "Epoch 13/100\n",
      "1/1 [==============================] - 0s 500us/step - loss: 9.6319 - mae: 9.6319\n",
      "Epoch 14/100\n",
      "1/1 [==============================] - 0s 501us/step - loss: 9.4994 - mae: 9.4994\n",
      "Epoch 15/100\n",
      "1/1 [==============================] - 0s 0s/step - loss: 9.3669 - mae: 9.3669\n",
      "Epoch 16/100\n",
      "1/1 [==============================] - 0s 500us/step - loss: 9.2344 - mae: 9.2344\n",
      "Epoch 17/100\n",
      "1/1 [==============================] - 0s 501us/step - loss: 9.1019 - mae: 9.1019\n",
      "Epoch 18/100\n",
      "1/1 [==============================] - 0s 500us/step - loss: 8.9694 - mae: 8.9694\n",
      "Epoch 19/100\n",
      "1/1 [==============================] - 0s 501us/step - loss: 8.8369 - mae: 8.8369\n",
      "Epoch 20/100\n",
      "1/1 [==============================] - 0s 501us/step - loss: 8.7044 - mae: 8.7044\n",
      "Epoch 21/100\n",
      "1/1 [==============================] - 0s 500us/step - loss: 8.5719 - mae: 8.5719\n",
      "Epoch 22/100\n",
      "1/1 [==============================] - 0s 0s/step - loss: 8.4394 - mae: 8.4394\n",
      "Epoch 23/100\n",
      "1/1 [==============================] - 0s 501us/step - loss: 8.3069 - mae: 8.3069\n",
      "Epoch 24/100\n",
      "1/1 [==============================] - 0s 500us/step - loss: 8.1744 - mae: 8.1744\n",
      "Epoch 25/100\n",
      "1/1 [==============================] - 0s 499us/step - loss: 8.0419 - mae: 8.0419\n",
      "Epoch 26/100\n",
      "1/1 [==============================] - 0s 500us/step - loss: 7.9094 - mae: 7.9094\n",
      "Epoch 27/100\n",
      "1/1 [==============================] - 0s 500us/step - loss: 7.7769 - mae: 7.7769\n",
      "Epoch 28/100\n",
      "1/1 [==============================] - 0s 0s/step - loss: 7.6444 - mae: 7.6444\n",
      "Epoch 29/100\n",
      "1/1 [==============================] - 0s 502us/step - loss: 7.5119 - mae: 7.5119\n",
      "Epoch 30/100\n",
      "1/1 [==============================] - 0s 501us/step - loss: 7.3794 - mae: 7.3794\n",
      "Epoch 31/100\n",
      "1/1 [==============================] - 0s 0s/step - loss: 7.2750 - mae: 7.2750\n",
      "Epoch 32/100\n",
      "1/1 [==============================] - 0s 0s/step - loss: 7.2694 - mae: 7.2694\n",
      "Epoch 33/100\n",
      "1/1 [==============================] - 0s 0s/step - loss: 7.2638 - mae: 7.2638\n",
      "Epoch 34/100\n",
      "1/1 [==============================] - 0s 0s/step - loss: 7.2581 - mae: 7.2581\n",
      "Epoch 35/100\n",
      "1/1 [==============================] - 0s 501us/step - loss: 7.2525 - mae: 7.2525\n",
      "Epoch 36/100\n",
      "1/1 [==============================] - 0s 501us/step - loss: 7.2469 - mae: 7.2469\n",
      "Epoch 37/100\n",
      "1/1 [==============================] - 0s 501us/step - loss: 7.2412 - mae: 7.2412\n",
      "Epoch 38/100\n",
      "1/1 [==============================] - 0s 499us/step - loss: 7.2356 - mae: 7.2356\n",
      "Epoch 39/100\n",
      "1/1 [==============================] - 0s 500us/step - loss: 7.2300 - mae: 7.2300\n",
      "Epoch 40/100\n",
      "1/1 [==============================] - 0s 0s/step - loss: 7.2244 - mae: 7.2244\n",
      "Epoch 41/100\n",
      "1/1 [==============================] - 0s 501us/step - loss: 7.2188 - mae: 7.2188\n",
      "Epoch 42/100\n",
      "1/1 [==============================] - 0s 501us/step - loss: 7.2131 - mae: 7.2131\n",
      "Epoch 43/100\n",
      "1/1 [==============================] - 0s 0s/step - loss: 7.2075 - mae: 7.2075\n",
      "Epoch 44/100\n",
      "1/1 [==============================] - 0s 501us/step - loss: 7.2019 - mae: 7.2019\n",
      "Epoch 45/100\n",
      "1/1 [==============================] - 0s 500us/step - loss: 7.1962 - mae: 7.1962\n",
      "Epoch 46/100\n",
      "1/1 [==============================] - 0s 0s/step - loss: 7.1906 - mae: 7.1906\n",
      "Epoch 47/100\n",
      "1/1 [==============================] - 0s 0s/step - loss: 7.1850 - mae: 7.1850\n",
      "Epoch 48/100\n",
      "1/1 [==============================] - 0s 500us/step - loss: 7.1794 - mae: 7.1794\n",
      "Epoch 49/100\n",
      "1/1 [==============================] - 0s 502us/step - loss: 7.1737 - mae: 7.1737\n",
      "Epoch 50/100\n",
      "1/1 [==============================] - 0s 501us/step - loss: 7.1681 - mae: 7.1681\n",
      "Epoch 51/100\n",
      "1/1 [==============================] - 0s 500us/step - loss: 7.1625 - mae: 7.1625\n",
      "Epoch 52/100\n",
      "1/1 [==============================] - 0s 501us/step - loss: 7.1569 - mae: 7.1569\n",
      "Epoch 53/100\n",
      "1/1 [==============================] - 0s 500us/step - loss: 7.1512 - mae: 7.1512\n",
      "Epoch 54/100\n",
      "1/1 [==============================] - 0s 502us/step - loss: 7.1456 - mae: 7.1456\n",
      "Epoch 55/100\n",
      "1/1 [==============================] - 0s 0s/step - loss: 7.1400 - mae: 7.1400\n",
      "Epoch 56/100\n",
      "1/1 [==============================] - 0s 0s/step - loss: 7.1344 - mae: 7.1344\n",
      "Epoch 57/100\n",
      "1/1 [==============================] - 0s 0s/step - loss: 7.1287 - mae: 7.1287\n",
      "Epoch 58/100\n",
      "1/1 [==============================] - 0s 0s/step - loss: 7.1231 - mae: 7.1231\n",
      "Epoch 59/100\n",
      "1/1 [==============================] - 0s 502us/step - loss: 7.1175 - mae: 7.1175\n",
      "Epoch 60/100\n",
      "1/1 [==============================] - 0s 501us/step - loss: 7.1119 - mae: 7.1119\n",
      "Epoch 61/100\n",
      "1/1 [==============================] - 0s 0s/step - loss: 7.1062 - mae: 7.1062\n",
      "Epoch 62/100\n",
      "1/1 [==============================] - 0s 501us/step - loss: 7.1006 - mae: 7.1006\n",
      "Epoch 63/100\n",
      "1/1 [==============================] - 0s 501us/step - loss: 7.0950 - mae: 7.0950\n",
      "Epoch 64/100\n",
      "1/1 [==============================] - 0s 500us/step - loss: 7.0894 - mae: 7.0894\n",
      "Epoch 65/100\n",
      "1/1 [==============================] - 0s 501us/step - loss: 7.0838 - mae: 7.0838\n",
      "Epoch 66/100\n",
      "1/1 [==============================] - 0s 0s/step - loss: 7.0781 - mae: 7.0781\n",
      "Epoch 67/100\n",
      "1/1 [==============================] - 0s 501us/step - loss: 7.0725 - mae: 7.0725\n",
      "Epoch 68/100\n",
      "1/1 [==============================] - 0s 501us/step - loss: 7.0669 - mae: 7.0669\n",
      "Epoch 69/100\n",
      "1/1 [==============================] - 0s 501us/step - loss: 7.0613 - mae: 7.0613\n",
      "Epoch 70/100\n",
      "1/1 [==============================] - 0s 500us/step - loss: 7.0556 - mae: 7.0556\n",
      "Epoch 71/100\n",
      "1/1 [==============================] - 0s 0s/step - loss: 7.0500 - mae: 7.0500\n",
      "Epoch 72/100\n",
      "1/1 [==============================] - 0s 500us/step - loss: 7.0444 - mae: 7.0444\n",
      "Epoch 73/100\n",
      "1/1 [==============================] - 0s 501us/step - loss: 7.0388 - mae: 7.0388\n",
      "Epoch 74/100\n",
      "1/1 [==============================] - 0s 500us/step - loss: 7.0331 - mae: 7.0331\n",
      "Epoch 75/100\n",
      "1/1 [==============================] - 0s 500us/step - loss: 7.0275 - mae: 7.0275\n",
      "Epoch 76/100\n",
      "1/1 [==============================] - 0s 0s/step - loss: 7.0219 - mae: 7.0219\n",
      "Epoch 77/100\n",
      "1/1 [==============================] - 0s 501us/step - loss: 7.0163 - mae: 7.0163\n",
      "Epoch 78/100\n",
      "1/1 [==============================] - 0s 501us/step - loss: 7.0106 - mae: 7.0106\n",
      "Epoch 79/100\n",
      "1/1 [==============================] - 0s 501us/step - loss: 7.0050 - mae: 7.0050\n",
      "Epoch 80/100\n",
      "1/1 [==============================] - 0s 500us/step - loss: 6.9994 - mae: 6.9994\n",
      "Epoch 81/100\n",
      "1/1 [==============================] - 0s 500us/step - loss: 6.9938 - mae: 6.9938\n",
      "Epoch 82/100\n",
      "1/1 [==============================] - 0s 501us/step - loss: 6.9881 - mae: 6.9881\n",
      "Epoch 83/100\n",
      "1/1 [==============================] - 0s 501us/step - loss: 6.9825 - mae: 6.9825\n",
      "Epoch 84/100\n",
      "1/1 [==============================] - 0s 500us/step - loss: 6.9769 - mae: 6.9769\n",
      "Epoch 85/100\n",
      "1/1 [==============================] - 0s 501us/step - loss: 6.9713 - mae: 6.9713\n",
      "Epoch 86/100\n",
      "1/1 [==============================] - 0s 501us/step - loss: 6.9656 - mae: 6.9656\n",
      "Epoch 87/100\n"
     ]
    },
    {
     "name": "stdout",
     "output_type": "stream",
     "text": [
      "1/1 [==============================] - 0s 501us/step - loss: 6.9600 - mae: 6.9600\n",
      "Epoch 88/100\n",
      "1/1 [==============================] - 0s 500us/step - loss: 6.9544 - mae: 6.9544\n",
      "Epoch 89/100\n",
      "1/1 [==============================] - 0s 500us/step - loss: 6.9488 - mae: 6.9488\n",
      "Epoch 90/100\n",
      "1/1 [==============================] - 0s 500us/step - loss: 6.9431 - mae: 6.9431\n",
      "Epoch 91/100\n",
      "1/1 [==============================] - 0s 500us/step - loss: 6.9375 - mae: 6.9375\n",
      "Epoch 92/100\n",
      "1/1 [==============================] - 0s 501us/step - loss: 6.9319 - mae: 6.9319\n",
      "Epoch 93/100\n",
      "1/1 [==============================] - 0s 500us/step - loss: 6.9263 - mae: 6.9263\n",
      "Epoch 94/100\n",
      "1/1 [==============================] - 0s 500us/step - loss: 6.9206 - mae: 6.9206\n",
      "Epoch 95/100\n",
      "1/1 [==============================] - 0s 501us/step - loss: 6.9150 - mae: 6.9150\n",
      "Epoch 96/100\n",
      "1/1 [==============================] - 0s 0s/step - loss: 6.9094 - mae: 6.9094\n",
      "Epoch 97/100\n",
      "1/1 [==============================] - 0s 501us/step - loss: 6.9038 - mae: 6.9038\n",
      "Epoch 98/100\n",
      "1/1 [==============================] - 0s 0s/step - loss: 6.8981 - mae: 6.8981\n",
      "Epoch 99/100\n",
      "1/1 [==============================] - 0s 501us/step - loss: 6.8925 - mae: 6.8925\n",
      "Epoch 100/100\n",
      "1/1 [==============================] - 0s 0s/step - loss: 6.8869 - mae: 6.8869\n"
     ]
    },
    {
     "data": {
      "text/plain": [
       "<tensorflow.python.keras.callbacks.History at 0x2223f019400>"
      ]
     },
     "execution_count": 90,
     "metadata": {},
     "output_type": "execute_result"
    }
   ],
   "source": [
    "# Let's rebuild our model\n",
    "\n",
    "# 1. Create the model\n",
    "model = tf.keras.Sequential([\n",
    "    tf.keras.layers.Dense(1)\n",
    "])\n",
    "\n",
    "# 2. Compile the model\n",
    "model.compile(loss=tf.keras.losses.mae,\n",
    "             optimizer=tf.keras.optimizers.SGD(),\n",
    "             metrics=[\"mae\"])\n",
    "\n",
    "# 3. Fit the model (this time we'll train for longer)\n",
    "model.fit(X, y, epochs=100)"
   ]
  },
  {
   "cell_type": "code",
   "execution_count": 91,
   "id": "bc25a038",
   "metadata": {},
   "outputs": [
    {
     "data": {
      "text/plain": [
       "(<tf.Tensor: shape=(8,), dtype=float32, numpy=array([-7., -4., -1.,  2.,  5.,  8., 11., 14.], dtype=float32)>,\n",
       " <tf.Tensor: shape=(8,), dtype=float32, numpy=array([ 3.,  6.,  9., 12., 15., 18., 21., 24.], dtype=float32)>)"
      ]
     },
     "execution_count": 91,
     "metadata": {},
     "output_type": "execute_result"
    }
   ],
   "source": [
    "# Remind ourselves of the data\n",
    "X, y"
   ]
  },
  {
   "cell_type": "code",
   "execution_count": 92,
   "id": "160ae4f2",
   "metadata": {},
   "outputs": [
    {
     "name": "stdout",
     "output_type": "stream",
     "text": [
      "WARNING:tensorflow:10 out of the last 10 calls to <function Model.make_predict_function.<locals>.predict_function at 0x000002224018C550> triggered tf.function retracing. Tracing is expensive and the excessive number of tracings could be due to (1) creating @tf.function repeatedly in a loop, (2) passing tensors with different shapes, (3) passing Python objects instead of tensors. For (1), please define your @tf.function outside of the loop. For (2), @tf.function has experimental_relax_shapes=True option that relaxes argument shapes that can avoid unnecessary retracing. For (3), please refer to https://www.tensorflow.org/tutorials/customization/performance#python_or_tensor_args and https://www.tensorflow.org/api_docs/python/tf/function for  more details.\n"
     ]
    },
    {
     "data": {
      "text/plain": [
       "array([[29.739855]], dtype=float32)"
      ]
     },
     "execution_count": 92,
     "metadata": {},
     "output_type": "execute_result"
    }
   ],
   "source": [
    "# Let's see if our model's prediction has improved...\n",
    "model.predict([17])"
   ]
  },
  {
   "cell_type": "code",
   "execution_count": 93,
   "id": "ebf53afd",
   "metadata": {},
   "outputs": [
    {
     "name": "stdout",
     "output_type": "stream",
     "text": [
      "Epoch 1/100\n",
      "1/1 [==============================] - 0s 1ms/step - loss: 10.5736 - mae: 10.5736\n",
      "Epoch 2/100\n",
      "1/1 [==============================] - 0s 0s/step - loss: 10.1236 - mae: 10.1236\n",
      "Epoch 3/100\n",
      "1/1 [==============================] - 0s 500us/step - loss: 9.6736 - mae: 9.6736\n",
      "Epoch 4/100\n",
      "1/1 [==============================] - 0s 500us/step - loss: 9.2236 - mae: 9.2236\n",
      "Epoch 5/100\n",
      "1/1 [==============================] - 0s 500us/step - loss: 8.7736 - mae: 8.7736\n",
      "Epoch 6/100\n",
      "1/1 [==============================] - 0s 500us/step - loss: 8.3236 - mae: 8.3236\n",
      "Epoch 7/100\n",
      "1/1 [==============================] - 0s 500us/step - loss: 7.8736 - mae: 7.8736\n",
      "Epoch 8/100\n",
      "1/1 [==============================] - 0s 500us/step - loss: 7.4236 - mae: 7.4236\n",
      "Epoch 9/100\n",
      "1/1 [==============================] - 0s 0s/step - loss: 6.9736 - mae: 6.9736\n",
      "Epoch 10/100\n",
      "1/1 [==============================] - 0s 501us/step - loss: 6.8250 - mae: 6.8250\n",
      "Epoch 11/100\n",
      "1/1 [==============================] - 0s 500us/step - loss: 6.7706 - mae: 6.7706\n",
      "Epoch 12/100\n",
      "1/1 [==============================] - 0s 501us/step - loss: 6.9023 - mae: 6.9023\n",
      "Epoch 13/100\n",
      "1/1 [==============================] - 0s 0s/step - loss: 6.9798 - mae: 6.9798\n",
      "Epoch 14/100\n",
      "1/1 [==============================] - 0s 500us/step - loss: 7.0115 - mae: 7.0115\n",
      "Epoch 15/100\n",
      "1/1 [==============================] - 0s 500us/step - loss: 7.0041 - mae: 7.0041\n",
      "Epoch 16/100\n",
      "1/1 [==============================] - 0s 500us/step - loss: 6.9629 - mae: 6.9629\n",
      "Epoch 17/100\n",
      "1/1 [==============================] - 0s 501us/step - loss: 6.8925 - mae: 6.8925\n",
      "Epoch 18/100\n",
      "1/1 [==============================] - 0s 501us/step - loss: 6.7967 - mae: 6.7967\n",
      "Epoch 19/100\n",
      "1/1 [==============================] - 0s 0s/step - loss: 6.6786 - mae: 6.6786\n",
      "Epoch 20/100\n",
      "1/1 [==============================] - 0s 500us/step - loss: 6.5410 - mae: 6.5410\n",
      "Epoch 21/100\n",
      "1/1 [==============================] - 0s 501us/step - loss: 6.3862 - mae: 6.3862\n",
      "Epoch 22/100\n",
      "1/1 [==============================] - 0s 500us/step - loss: 6.2161 - mae: 6.2161\n",
      "Epoch 23/100\n",
      "1/1 [==============================] - 0s 0s/step - loss: 6.0324 - mae: 6.0324\n",
      "Epoch 24/100\n",
      "1/1 [==============================] - 0s 500us/step - loss: 5.9317 - mae: 5.9317\n",
      "Epoch 25/100\n",
      "1/1 [==============================] - 0s 500us/step - loss: 5.8711 - mae: 5.8711\n",
      "Epoch 26/100\n",
      "1/1 [==============================] - 0s 501us/step - loss: 5.8089 - mae: 5.8089\n",
      "Epoch 27/100\n",
      "1/1 [==============================] - 0s 501us/step - loss: 5.7619 - mae: 5.7619\n",
      "Epoch 28/100\n",
      "1/1 [==============================] - 0s 500us/step - loss: 5.7609 - mae: 5.7609\n",
      "Epoch 29/100\n",
      "1/1 [==============================] - 0s 500us/step - loss: 5.7017 - mae: 5.7017\n",
      "Epoch 30/100\n",
      "1/1 [==============================] - 0s 502us/step - loss: 5.5917 - mae: 5.5917\n",
      "Epoch 31/100\n",
      "1/1 [==============================] - 0s 501us/step - loss: 5.4656 - mae: 5.4656\n",
      "Epoch 32/100\n",
      "1/1 [==============================] - 0s 500us/step - loss: 5.3926 - mae: 5.3926\n",
      "Epoch 33/100\n",
      "1/1 [==============================] - 0s 499us/step - loss: 5.3197 - mae: 5.3197\n",
      "Epoch 34/100\n",
      "1/1 [==============================] - 0s 500us/step - loss: 5.2467 - mae: 5.2467\n",
      "Epoch 35/100\n",
      "1/1 [==============================] - 0s 500us/step - loss: 5.1738 - mae: 5.1738\n",
      "Epoch 36/100\n",
      "1/1 [==============================] - 0s 500us/step - loss: 5.1009 - mae: 5.1009\n",
      "Epoch 37/100\n",
      "1/1 [==============================] - 0s 0s/step - loss: 5.0279 - mae: 5.0279\n",
      "Epoch 38/100\n",
      "1/1 [==============================] - 0s 500us/step - loss: 4.9770 - mae: 4.9770\n",
      "Epoch 39/100\n",
      "1/1 [==============================] - 0s 500us/step - loss: 4.9214 - mae: 4.9214\n",
      "Epoch 40/100\n",
      "1/1 [==============================] - 0s 500us/step - loss: 4.8387 - mae: 4.8387\n",
      "Epoch 41/100\n",
      "1/1 [==============================] - 0s 501us/step - loss: 4.7472 - mae: 4.7472\n",
      "Epoch 42/100\n",
      "1/1 [==============================] - 0s 501us/step - loss: 4.6789 - mae: 4.6789\n",
      "Epoch 43/100\n",
      "1/1 [==============================] - 0s 0s/step - loss: 4.6100 - mae: 4.6100\n",
      "Epoch 44/100\n",
      "1/1 [==============================] - 0s 0s/step - loss: 4.5405 - mae: 4.5405\n",
      "Epoch 45/100\n",
      "1/1 [==============================] - 0s 500us/step - loss: 4.4706 - mae: 4.4706\n",
      "Epoch 46/100\n",
      "1/1 [==============================] - 0s 500us/step - loss: 4.4002 - mae: 4.4002\n",
      "Epoch 47/100\n",
      "1/1 [==============================] - 0s 1ms/step - loss: 4.3295 - mae: 4.3295\n",
      "Epoch 48/100\n",
      "1/1 [==============================] - 0s 0s/step - loss: 4.2584 - mae: 4.2584\n",
      "Epoch 49/100\n",
      "1/1 [==============================] - 0s 501us/step - loss: 4.1869 - mae: 4.1869\n",
      "Epoch 50/100\n",
      "1/1 [==============================] - 0s 500us/step - loss: 4.1152 - mae: 4.1152\n",
      "Epoch 51/100\n",
      "1/1 [==============================] - 0s 501us/step - loss: 4.0432 - mae: 4.0432\n",
      "Epoch 52/100\n",
      "1/1 [==============================] - 0s 500us/step - loss: 3.9710 - mae: 3.9710\n",
      "Epoch 53/100\n",
      "1/1 [==============================] - 0s 500us/step - loss: 3.8986 - mae: 3.8986\n",
      "Epoch 54/100\n",
      "1/1 [==============================] - 0s 500us/step - loss: 3.8259 - mae: 3.8259\n",
      "Epoch 55/100\n",
      "1/1 [==============================] - 0s 0s/step - loss: 3.7531 - mae: 3.7531\n",
      "Epoch 56/100\n",
      "1/1 [==============================] - 0s 0s/step - loss: 3.6802 - mae: 3.6802\n",
      "Epoch 57/100\n",
      "1/1 [==============================] - 0s 500us/step - loss: 3.6071 - mae: 3.6071\n",
      "Epoch 58/100\n",
      "1/1 [==============================] - 0s 500us/step - loss: 3.5339 - mae: 3.5339\n",
      "Epoch 59/100\n",
      "1/1 [==============================] - 0s 500us/step - loss: 3.4605 - mae: 3.4605\n",
      "Epoch 60/100\n",
      "1/1 [==============================] - 0s 500us/step - loss: 3.3871 - mae: 3.3871\n",
      "Epoch 61/100\n",
      "1/1 [==============================] - 0s 500us/step - loss: 3.3135 - mae: 3.3135\n",
      "Epoch 62/100\n",
      "1/1 [==============================] - 0s 500us/step - loss: 3.2399 - mae: 3.2399\n",
      "Epoch 63/100\n",
      "1/1 [==============================] - 0s 500us/step - loss: 3.1662 - mae: 3.1662\n",
      "Epoch 64/100\n",
      "1/1 [==============================] - 0s 0s/step - loss: 3.0924 - mae: 3.0924\n",
      "Epoch 65/100\n",
      "1/1 [==============================] - 0s 500us/step - loss: 3.0220 - mae: 3.0220\n",
      "Epoch 66/100\n",
      "1/1 [==============================] - 0s 0s/step - loss: 2.9468 - mae: 2.9468\n",
      "Epoch 67/100\n",
      "1/1 [==============================] - 0s 501us/step - loss: 2.8747 - mae: 2.8747\n",
      "Epoch 68/100\n",
      "1/1 [==============================] - 0s 502us/step - loss: 2.8024 - mae: 2.8024\n",
      "Epoch 69/100\n",
      "1/1 [==============================] - 0s 499us/step - loss: 2.7299 - mae: 2.7299\n",
      "Epoch 70/100\n",
      "1/1 [==============================] - 0s 501us/step - loss: 2.6571 - mae: 2.6571\n",
      "Epoch 71/100\n",
      "1/1 [==============================] - 0s 501us/step - loss: 2.5841 - mae: 2.5841\n",
      "Epoch 72/100\n",
      "1/1 [==============================] - 0s 501us/step - loss: 2.5110 - mae: 2.5110\n",
      "Epoch 73/100\n",
      "1/1 [==============================] - 0s 500us/step - loss: 2.4377 - mae: 2.4377\n",
      "Epoch 74/100\n",
      "1/1 [==============================] - 0s 502us/step - loss: 2.3642 - mae: 2.3642\n",
      "Epoch 75/100\n",
      "1/1 [==============================] - 0s 500us/step - loss: 2.2906 - mae: 2.2906\n",
      "Epoch 76/100\n",
      "1/1 [==============================] - 0s 500us/step - loss: 2.2169 - mae: 2.2169\n",
      "Epoch 77/100\n",
      "1/1 [==============================] - 0s 500us/step - loss: 2.1431 - mae: 2.1431\n",
      "Epoch 78/100\n",
      "1/1 [==============================] - 0s 501us/step - loss: 2.0692 - mae: 2.0692\n",
      "Epoch 79/100\n",
      "1/1 [==============================] - 0s 0s/step - loss: 2.0054 - mae: 2.0054\n",
      "Epoch 80/100\n",
      "1/1 [==============================] - 0s 501us/step - loss: 1.9234 - mae: 1.9234\n",
      "Epoch 81/100\n",
      "1/1 [==============================] - 0s 0s/step - loss: 1.8512 - mae: 1.8512\n",
      "Epoch 82/100\n",
      "1/1 [==============================] - 0s 501us/step - loss: 1.7788 - mae: 1.7788\n",
      "Epoch 83/100\n",
      "1/1 [==============================] - 0s 500us/step - loss: 1.7061 - mae: 1.7061\n",
      "Epoch 84/100\n",
      "1/1 [==============================] - 0s 502us/step - loss: 1.6331 - mae: 1.6331\n",
      "Epoch 85/100\n",
      "1/1 [==============================] - 0s 500us/step - loss: 1.5600 - mae: 1.5600\n",
      "Epoch 86/100\n",
      "1/1 [==============================] - 0s 0s/step - loss: 1.4867 - mae: 1.4867\n",
      "Epoch 87/100\n"
     ]
    },
    {
     "name": "stdout",
     "output_type": "stream",
     "text": [
      "1/1 [==============================] - 0s 501us/step - loss: 1.4132 - mae: 1.4132\n",
      "Epoch 88/100\n",
      "1/1 [==============================] - 0s 500us/step - loss: 1.3395 - mae: 1.3395\n",
      "Epoch 89/100\n",
      "1/1 [==============================] - 0s 499us/step - loss: 1.2657 - mae: 1.2657\n",
      "Epoch 90/100\n",
      "1/1 [==============================] - 0s 500us/step - loss: 1.1918 - mae: 1.1918\n",
      "Epoch 91/100\n",
      "1/1 [==============================] - 0s 501us/step - loss: 1.1178 - mae: 1.1178\n",
      "Epoch 92/100\n",
      "1/1 [==============================] - 0s 500us/step - loss: 1.0437 - mae: 1.0437\n",
      "Epoch 93/100\n",
      "1/1 [==============================] - 0s 500us/step - loss: 0.9695 - mae: 0.9695\n",
      "Epoch 94/100\n",
      "1/1 [==============================] - 0s 0s/step - loss: 0.8952 - mae: 0.8952\n",
      "Epoch 95/100\n",
      "1/1 [==============================] - 0s 0s/step - loss: 0.8208 - mae: 0.8208\n",
      "Epoch 96/100\n",
      "1/1 [==============================] - 0s 501us/step - loss: 0.7464 - mae: 0.7464\n",
      "Epoch 97/100\n",
      "1/1 [==============================] - 0s 501us/step - loss: 0.6828 - mae: 0.6828\n",
      "Epoch 98/100\n",
      "1/1 [==============================] - 0s 500us/step - loss: 0.5997 - mae: 0.5997\n",
      "Epoch 99/100\n",
      "1/1 [==============================] - 0s 0s/step - loss: 0.5291 - mae: 0.5291\n",
      "Epoch 100/100\n",
      "1/1 [==============================] - 0s 0s/step - loss: 0.4521 - mae: 0.4521\n"
     ]
    },
    {
     "data": {
      "text/plain": [
       "<tensorflow.python.keras.callbacks.History at 0x22240189c10>"
      ]
     },
     "execution_count": 93,
     "metadata": {},
     "output_type": "execute_result"
    }
   ],
   "source": [
    "model = tf.keras.Sequential([ # homework\n",
    "    tf.keras.layers.Dense(1)\n",
    "])\n",
    "\n",
    "model.compile(loss=tf.keras.losses.mae,\n",
    "             optimizer=tf.keras.optimizers.Adam(lr=0.1),\n",
    "             metrics=[\"mae\"])\n",
    "\n",
    "model.fit(X, y, epochs=100)"
   ]
  },
  {
   "cell_type": "code",
   "execution_count": 94,
   "id": "7fd35c3a",
   "metadata": {},
   "outputs": [
    {
     "name": "stdout",
     "output_type": "stream",
     "text": [
      "WARNING:tensorflow:11 out of the last 11 calls to <function Model.make_predict_function.<locals>.predict_function at 0x0000022240405280> triggered tf.function retracing. Tracing is expensive and the excessive number of tracings could be due to (1) creating @tf.function repeatedly in a loop, (2) passing tensors with different shapes, (3) passing Python objects instead of tensors. For (1), please define your @tf.function outside of the loop. For (2), @tf.function has experimental_relax_shapes=True option that relaxes argument shapes that can avoid unnecessary retracing. For (3), please refer to https://www.tensorflow.org/tutorials/customization/performance#python_or_tensor_args and https://www.tensorflow.org/api_docs/python/tf/function for  more details.\n"
     ]
    },
    {
     "data": {
      "text/plain": [
       "array([[27.497076]], dtype=float32)"
      ]
     },
     "execution_count": 94,
     "metadata": {},
     "output_type": "execute_result"
    }
   ],
   "source": [
    "model.predict([17]) # end of homework"
   ]
  },
  {
   "cell_type": "code",
   "execution_count": 95,
   "id": "600634cd",
   "metadata": {},
   "outputs": [
    {
     "name": "stdout",
     "output_type": "stream",
     "text": [
      "Epoch 1/100\n",
      "1/1 [==============================] - 0s 500us/step - loss: 14.2261 - mae: 14.2261\n",
      "Epoch 2/100\n",
      "1/1 [==============================] - 0s 500us/step - loss: 13.5328 - mae: 13.5328\n",
      "Epoch 3/100\n",
      "1/1 [==============================] - 0s 501us/step - loss: 12.8450 - mae: 12.8450\n",
      "Epoch 4/100\n",
      "1/1 [==============================] - 0s 500us/step - loss: 12.1611 - mae: 12.1611\n",
      "Epoch 5/100\n",
      "1/1 [==============================] - 0s 500us/step - loss: 11.4786 - mae: 11.4786\n",
      "Epoch 6/100\n",
      "1/1 [==============================] - 0s 501us/step - loss: 10.7953 - mae: 10.7953\n",
      "Epoch 7/100\n",
      "1/1 [==============================] - 0s 501us/step - loss: 10.1084 - mae: 10.1084\n",
      "Epoch 8/100\n",
      "1/1 [==============================] - 0s 0s/step - loss: 9.4153 - mae: 9.4153\n",
      "Epoch 9/100\n",
      "1/1 [==============================] - 0s 500us/step - loss: 8.7133 - mae: 8.7133\n",
      "Epoch 10/100\n",
      "1/1 [==============================] - 0s 501us/step - loss: 7.9998 - mae: 7.9998\n",
      "Epoch 11/100\n",
      "1/1 [==============================] - 0s 501us/step - loss: 7.2724 - mae: 7.2724\n",
      "Epoch 12/100\n",
      "1/1 [==============================] - 0s 500us/step - loss: 6.6391 - mae: 6.6391\n",
      "Epoch 13/100\n",
      "1/1 [==============================] - 0s 501us/step - loss: 6.6431 - mae: 6.6431\n",
      "Epoch 14/100\n",
      "1/1 [==============================] - 0s 500us/step - loss: 6.9208 - mae: 6.9208\n",
      "Epoch 15/100\n",
      "1/1 [==============================] - 0s 0s/step - loss: 7.0980 - mae: 7.0980\n",
      "Epoch 16/100\n",
      "1/1 [==============================] - 0s 500us/step - loss: 7.2570 - mae: 7.2570\n",
      "Epoch 17/100\n",
      "1/1 [==============================] - 0s 500us/step - loss: 7.2611 - mae: 7.2611\n",
      "Epoch 18/100\n",
      "1/1 [==============================] - 0s 500us/step - loss: 7.1037 - mae: 7.1037\n",
      "Epoch 19/100\n",
      "1/1 [==============================] - 0s 501us/step - loss: 6.8542 - mae: 6.8542\n",
      "Epoch 20/100\n",
      "1/1 [==============================] - 0s 501us/step - loss: 6.6416 - mae: 6.6416\n",
      "Epoch 21/100\n",
      "1/1 [==============================] - 0s 500us/step - loss: 6.4073 - mae: 6.4073\n",
      "Epoch 22/100\n",
      "1/1 [==============================] - 0s 500us/step - loss: 6.1556 - mae: 6.1556\n",
      "Epoch 23/100\n",
      "1/1 [==============================] - 0s 500us/step - loss: 5.9512 - mae: 5.9512\n",
      "Epoch 24/100\n",
      "1/1 [==============================] - 0s 500us/step - loss: 5.9037 - mae: 5.9037\n",
      "Epoch 25/100\n",
      "1/1 [==============================] - 0s 501us/step - loss: 5.8553 - mae: 5.8553\n",
      "Epoch 26/100\n",
      "1/1 [==============================] - 0s 0s/step - loss: 5.9016 - mae: 5.9016\n",
      "Epoch 27/100\n",
      "1/1 [==============================] - 0s 501us/step - loss: 5.8472 - mae: 5.8472\n",
      "Epoch 28/100\n",
      "1/1 [==============================] - 0s 500us/step - loss: 5.7049 - mae: 5.7049\n",
      "Epoch 29/100\n",
      "1/1 [==============================] - 0s 0s/step - loss: 5.5259 - mae: 5.5259\n",
      "Epoch 30/100\n",
      "1/1 [==============================] - 0s 500us/step - loss: 5.4255 - mae: 5.4255\n",
      "Epoch 31/100\n",
      "1/1 [==============================] - 0s 0s/step - loss: 5.3213 - mae: 5.3213\n",
      "Epoch 32/100\n",
      "1/1 [==============================] - 0s 0s/step - loss: 5.2131 - mae: 5.2131\n",
      "Epoch 33/100\n",
      "1/1 [==============================] - 0s 501us/step - loss: 5.1472 - mae: 5.1472\n",
      "Epoch 34/100\n",
      "1/1 [==============================] - 0s 500us/step - loss: 5.0909 - mae: 5.0909\n",
      "Epoch 35/100\n",
      "1/1 [==============================] - 0s 500us/step - loss: 4.9926 - mae: 4.9926\n",
      "Epoch 36/100\n",
      "1/1 [==============================] - 0s 500us/step - loss: 4.8552 - mae: 4.8552\n",
      "Epoch 37/100\n",
      "1/1 [==============================] - 0s 500us/step - loss: 4.6821 - mae: 4.6821\n",
      "Epoch 38/100\n",
      "1/1 [==============================] - 0s 501us/step - loss: 4.5740 - mae: 4.5740\n",
      "Epoch 39/100\n",
      "1/1 [==============================] - 0s 500us/step - loss: 4.4584 - mae: 4.4584\n",
      "Epoch 40/100\n",
      "1/1 [==============================] - 0s 501us/step - loss: 4.3351 - mae: 4.3351\n",
      "Epoch 41/100\n",
      "1/1 [==============================] - 0s 501us/step - loss: 4.2039 - mae: 4.2039\n",
      "Epoch 42/100\n",
      "1/1 [==============================] - 0s 500us/step - loss: 4.0647 - mae: 4.0647\n",
      "Epoch 43/100\n",
      "1/1 [==============================] - 0s 500us/step - loss: 3.9171 - mae: 3.9171\n",
      "Epoch 44/100\n",
      "1/1 [==============================] - 0s 500us/step - loss: 3.7610 - mae: 3.7610\n",
      "Epoch 45/100\n",
      "1/1 [==============================] - 0s 501us/step - loss: 3.5961 - mae: 3.5961\n",
      "Epoch 46/100\n",
      "1/1 [==============================] - 0s 501us/step - loss: 3.4221 - mae: 3.4221\n",
      "Epoch 47/100\n",
      "1/1 [==============================] - 0s 500us/step - loss: 3.2387 - mae: 3.2387\n",
      "Epoch 48/100\n",
      "1/1 [==============================] - 0s 500us/step - loss: 3.0457 - mae: 3.0457\n",
      "Epoch 49/100\n",
      "1/1 [==============================] - 0s 501us/step - loss: 2.8428 - mae: 2.8428\n",
      "Epoch 50/100\n",
      "1/1 [==============================] - 0s 501us/step - loss: 2.6857 - mae: 2.6857\n",
      "Epoch 51/100\n",
      "1/1 [==============================] - 0s 0s/step - loss: 2.4548 - mae: 2.4548\n",
      "Epoch 52/100\n",
      "1/1 [==============================] - 0s 0s/step - loss: 2.2068 - mae: 2.2068\n",
      "Epoch 53/100\n",
      "1/1 [==============================] - 0s 500us/step - loss: 1.9829 - mae: 1.9829\n",
      "Epoch 54/100\n",
      "1/1 [==============================] - 0s 500us/step - loss: 1.8204 - mae: 1.8204\n",
      "Epoch 55/100\n",
      "1/1 [==============================] - 0s 500us/step - loss: 1.4857 - mae: 1.4857\n",
      "Epoch 56/100\n",
      "1/1 [==============================] - 0s 500us/step - loss: 1.2132 - mae: 1.2132\n",
      "Epoch 57/100\n",
      "1/1 [==============================] - 0s 0s/step - loss: 0.9993 - mae: 0.9993\n",
      "Epoch 58/100\n",
      "1/1 [==============================] - 0s 0s/step - loss: 0.7101 - mae: 0.7101\n",
      "Epoch 59/100\n",
      "1/1 [==============================] - 0s 500us/step - loss: 0.3594 - mae: 0.3594\n",
      "Epoch 60/100\n",
      "1/1 [==============================] - 0s 500us/step - loss: 0.1118 - mae: 0.1118\n",
      "Epoch 61/100\n",
      "1/1 [==============================] - 0s 500us/step - loss: 0.3994 - mae: 0.3994\n",
      "Epoch 62/100\n",
      "1/1 [==============================] - 0s 502us/step - loss: 0.5249 - mae: 0.5249\n",
      "Epoch 63/100\n",
      "1/1 [==============================] - 0s 500us/step - loss: 0.8002 - mae: 0.8002\n",
      "Epoch 64/100\n",
      "1/1 [==============================] - 0s 0s/step - loss: 0.9110 - mae: 0.9110\n",
      "Epoch 65/100\n",
      "1/1 [==============================] - 0s 500us/step - loss: 0.8892 - mae: 0.8892\n",
      "Epoch 66/100\n",
      "1/1 [==============================] - 0s 500us/step - loss: 0.9457 - mae: 0.9457\n",
      "Epoch 67/100\n",
      "1/1 [==============================] - 0s 0s/step - loss: 0.8913 - mae: 0.8913\n",
      "Epoch 68/100\n",
      "1/1 [==============================] - 0s 501us/step - loss: 0.8768 - mae: 0.8768\n",
      "Epoch 69/100\n",
      "1/1 [==============================] - 0s 0s/step - loss: 0.7506 - mae: 0.7506\n",
      "Epoch 70/100\n",
      "1/1 [==============================] - 0s 501us/step - loss: 0.6897 - mae: 0.6897\n",
      "Epoch 71/100\n",
      "1/1 [==============================] - 0s 499us/step - loss: 0.5674 - mae: 0.5674\n",
      "Epoch 72/100\n",
      "1/1 [==============================] - 0s 501us/step - loss: 0.3382 - mae: 0.3382\n",
      "Epoch 73/100\n",
      "1/1 [==============================] - 0s 0s/step - loss: 0.1770 - mae: 0.1770\n",
      "Epoch 74/100\n",
      "1/1 [==============================] - 0s 500us/step - loss: 0.1846 - mae: 0.1846\n",
      "Epoch 75/100\n",
      "1/1 [==============================] - 0s 501us/step - loss: 0.2042 - mae: 0.2042\n",
      "Epoch 76/100\n",
      "1/1 [==============================] - 0s 500us/step - loss: 0.4884 - mae: 0.4884\n",
      "Epoch 77/100\n",
      "1/1 [==============================] - 0s 500us/step - loss: 0.5454 - mae: 0.5454\n",
      "Epoch 78/100\n",
      "1/1 [==============================] - 0s 501us/step - loss: 0.4443 - mae: 0.4443\n",
      "Epoch 79/100\n",
      "1/1 [==============================] - 0s 501us/step - loss: 0.5707 - mae: 0.5707\n",
      "Epoch 80/100\n",
      "1/1 [==============================] - 0s 0s/step - loss: 0.6051 - mae: 0.6051\n",
      "Epoch 81/100\n",
      "1/1 [==============================] - 0s 501us/step - loss: 0.4780 - mae: 0.4780\n",
      "Epoch 82/100\n",
      "1/1 [==============================] - 0s 501us/step - loss: 0.3399 - mae: 0.3399\n",
      "Epoch 83/100\n",
      "1/1 [==============================] - 0s 501us/step - loss: 0.3067 - mae: 0.3067\n",
      "Epoch 84/100\n",
      "1/1 [==============================] - 0s 500us/step - loss: 0.1018 - mae: 0.1018\n",
      "Epoch 85/100\n",
      "1/1 [==============================] - 0s 0s/step - loss: 0.2650 - mae: 0.2650\n",
      "Epoch 86/100\n",
      "1/1 [==============================] - 0s 500us/step - loss: 0.2374 - mae: 0.2374\n",
      "Epoch 87/100\n"
     ]
    },
    {
     "name": "stdout",
     "output_type": "stream",
     "text": [
      "1/1 [==============================] - 0s 0s/step - loss: 0.3402 - mae: 0.3402\n",
      "Epoch 88/100\n",
      "1/1 [==============================] - 0s 500us/step - loss: 0.4551 - mae: 0.4551\n",
      "Epoch 89/100\n",
      "1/1 [==============================] - 0s 1ms/step - loss: 0.3949 - mae: 0.3949\n",
      "Epoch 90/100\n",
      "1/1 [==============================] - 0s 501us/step - loss: 0.2212 - mae: 0.2212\n",
      "Epoch 91/100\n",
      "1/1 [==============================] - 0s 0s/step - loss: 0.2634 - mae: 0.2634\n",
      "Epoch 92/100\n",
      "1/1 [==============================] - 0s 500us/step - loss: 0.0835 - mae: 0.0835\n",
      "Epoch 93/100\n",
      "1/1 [==============================] - 0s 500us/step - loss: 0.2379 - mae: 0.2379\n",
      "Epoch 94/100\n",
      "1/1 [==============================] - 0s 501us/step - loss: 0.1928 - mae: 0.1928\n",
      "Epoch 95/100\n",
      "1/1 [==============================] - 0s 501us/step - loss: 0.2699 - mae: 0.2699\n",
      "Epoch 96/100\n",
      "1/1 [==============================] - 0s 500us/step - loss: 0.3601 - mae: 0.3601\n",
      "Epoch 97/100\n",
      "1/1 [==============================] - 0s 0s/step - loss: 0.2943 - mae: 0.2943\n",
      "Epoch 98/100\n",
      "1/1 [==============================] - 0s 500us/step - loss: 0.1065 - mae: 0.1065\n",
      "Epoch 99/100\n",
      "1/1 [==============================] - 0s 501us/step - loss: 0.1595 - mae: 0.1595\n",
      "Epoch 100/100\n",
      "1/1 [==============================] - 0s 501us/step - loss: 0.0556 - mae: 0.0556\n"
     ]
    },
    {
     "data": {
      "text/plain": [
       "<tensorflow.python.keras.callbacks.History at 0x222404a56d0>"
      ]
     },
     "execution_count": 95,
     "metadata": {},
     "output_type": "execute_result"
    }
   ],
   "source": [
    "# Let's see if we can make another to improve our model\n",
    "\n",
    "# 1. Create the model (this time with an extra hidden layer with 100 hiden units)\n",
    "model = tf.keras.Sequential([\n",
    "    tf.keras.layers.Dense(50, activation=None),\n",
    "    tf.keras.layers.Dense(1)\n",
    "])\n",
    "\n",
    "# 2. Compile the model\n",
    "model.compile(loss=[\"mae\"],\n",
    "             optimizer=tf.keras.optimizers.Adam(lr=0.01),\n",
    "             metrics=[\"mae\"])\n",
    "\n",
    "# 3. Fit the model\n",
    "model.fit(X, y, epochs=100)"
   ]
  },
  {
   "cell_type": "code",
   "execution_count": 96,
   "id": "5198a54e",
   "metadata": {},
   "outputs": [
    {
     "data": {
      "text/plain": [
       "(<tf.Tensor: shape=(8,), dtype=float32, numpy=array([-7., -4., -1.,  2.,  5.,  8., 11., 14.], dtype=float32)>,\n",
       " <tf.Tensor: shape=(8,), dtype=float32, numpy=array([ 3.,  6.,  9., 12., 15., 18., 21., 24.], dtype=float32)>)"
      ]
     },
     "execution_count": 96,
     "metadata": {},
     "output_type": "execute_result"
    }
   ],
   "source": [
    "# Let's remind ourselves of the data\n",
    "X, y"
   ]
  },
  {
   "cell_type": "code",
   "execution_count": 97,
   "id": "38344581",
   "metadata": {},
   "outputs": [
    {
     "name": "stdout",
     "output_type": "stream",
     "text": [
      "WARNING:tensorflow:11 out of the last 11 calls to <function Model.make_predict_function.<locals>.predict_function at 0x00000222401FEB80> triggered tf.function retracing. Tracing is expensive and the excessive number of tracings could be due to (1) creating @tf.function repeatedly in a loop, (2) passing tensors with different shapes, (3) passing Python objects instead of tensors. For (1), please define your @tf.function outside of the loop. For (2), @tf.function has experimental_relax_shapes=True option that relaxes argument shapes that can avoid unnecessary retracing. For (3), please refer to https://www.tensorflow.org/tutorials/customization/performance#python_or_tensor_args and https://www.tensorflow.org/api_docs/python/tf/function for  more details.\n"
     ]
    },
    {
     "data": {
      "text/plain": [
       "array([[27.138466]], dtype=float32)"
      ]
     },
     "execution_count": 97,
     "metadata": {},
     "output_type": "execute_result"
    }
   ],
   "source": [
    "# Let's try to make a prediction\n",
    "model.predict([17.0])"
   ]
  },
  {
   "cell_type": "markdown",
   "id": "7955bf7f",
   "metadata": {},
   "source": [
    "## Evaluating a model\n",
    "\n",
    "In practice, a typical workflow you'll go through when building neural networks is:\n",
    "\n",
    "Build a model -> fit it -> evaluate it -> tweak a model -> fit it -> evaluate it -> tweak a model -> fit it -> evaluate it -> ..."
   ]
  },
  {
   "cell_type": "markdown",
   "id": "bd48ee4f",
   "metadata": {},
   "source": [
    "When it comes to evaluation... there are 3 words you should memorize:\n",
    "\n",
    "> \"Visualize, visualize, visualize\"\n",
    "\n",
    "It's a good idea to visualize:\n",
    "* The data - what data are we working with? What does it look like?\n",
    "* The model itself - what does our model look like?\n",
    "* The training of a model - how does a model perform while it learns?\n",
    "* The predictions of the model - how do the predictions of a model line up against the ground truth (the original labels)?"
   ]
  },
  {
   "cell_type": "code",
   "execution_count": 98,
   "id": "a9b15f3a",
   "metadata": {},
   "outputs": [
    {
     "data": {
      "text/plain": [
       "<tf.Tensor: shape=(50,), dtype=int32, numpy=\n",
       "array([-100,  -96,  -92,  -88,  -84,  -80,  -76,  -72,  -68,  -64,  -60,\n",
       "        -56,  -52,  -48,  -44,  -40,  -36,  -32,  -28,  -24,  -20,  -16,\n",
       "        -12,   -8,   -4,    0,    4,    8,   12,   16,   20,   24,   28,\n",
       "         32,   36,   40,   44,   48,   52,   56,   60,   64,   68,   72,\n",
       "         76,   80,   84,   88,   92,   96])>"
      ]
     },
     "execution_count": 98,
     "metadata": {},
     "output_type": "execute_result"
    }
   ],
   "source": [
    "# Make a bigger dataset\n",
    "X = tf.range(-100, 100, 4)\n",
    "X"
   ]
  },
  {
   "cell_type": "code",
   "execution_count": 99,
   "id": "94a8d893",
   "metadata": {},
   "outputs": [
    {
     "data": {
      "text/plain": [
       "<tf.Tensor: shape=(50,), dtype=int32, numpy=\n",
       "array([-90, -86, -82, -78, -74, -70, -66, -62, -58, -54, -50, -46, -42,\n",
       "       -38, -34, -30, -26, -22, -18, -14, -10,  -6,  -2,   2,   6,  10,\n",
       "        14,  18,  22,  26,  30,  34,  38,  42,  46,  50,  54,  58,  62,\n",
       "        66,  70,  74,  78,  82,  86,  90,  94,  98, 102, 106])>"
      ]
     },
     "execution_count": 99,
     "metadata": {},
     "output_type": "execute_result"
    }
   ],
   "source": [
    "# Make labels for the dataset\n",
    "y = X+10\n",
    "y"
   ]
  },
  {
   "cell_type": "code",
   "execution_count": 100,
   "id": "ec95f90a",
   "metadata": {},
   "outputs": [
    {
     "data": {
      "text/plain": [
       "<matplotlib.collections.PathCollection at 0x2223d61f910>"
      ]
     },
     "execution_count": 100,
     "metadata": {},
     "output_type": "execute_result"
    },
    {
     "data": {
      "image/png": "[encoded data removed]",
      "text/plain": [
       "<Figure size 432x288 with 1 Axes>"
      ]
     },
     "metadata": {
      "needs_background": "light"
     },
     "output_type": "display_data"
    }
   ],
   "source": [
    "# Visualize the data\n",
    "import matplotlib.pyplot as plt\n",
    "\n",
    "plt.scatter(X, y)"
   ]
  },
  {
   "cell_type": "markdown",
   "id": "8e31e755",
   "metadata": {},
   "source": [
    "### The 3 sets...\n",
    "* **The training set** - the model learns from this data, which is typically 70-80% of the total data you have available\n",
    "* **Validation set** - the model gets tuned on this data, which is typically 10-15% of the data available\n",
    "* **Test set** - the model gets evaluated on this data to test what it has learned, this set is typically around 10-15% of the total data available"
   ]
  },
  {
   "cell_type": "code",
   "execution_count": 101,
   "id": "becde780",
   "metadata": {},
   "outputs": [
    {
     "data": {
      "text/plain": [
       "50"
      ]
     },
     "execution_count": 101,
     "metadata": {},
     "output_type": "execute_result"
    }
   ],
   "source": [
    "# Check the length of how many samples we have\n",
    "len(X)"
   ]
  },
  {
   "cell_type": "code",
   "execution_count": 102,
   "id": "c4792700",
   "metadata": {},
   "outputs": [
    {
     "data": {
      "text/plain": [
       "(40, 10, 40, 10)"
      ]
     },
     "execution_count": 102,
     "metadata": {},
     "output_type": "execute_result"
    }
   ],
   "source": [
    "# Split the data into train and test sets\n",
    "X_train = X[:40] # first 40 are training samples (80% of the data)\n",
    "y_train = y[:40]\n",
    "\n",
    "X_test = X[40:] # last 10 are testing samples (20% of the data)\n",
    "y_test = y[40:]\n",
    "\n",
    "len(X_train), len(X_test), len(y_train), len(y_test)"
   ]
  },
  {
   "cell_type": "markdown",
   "id": "9e23d1a5",
   "metadata": {},
   "source": [
    "### Visualizing the data\n",
    "\n",
    "Now we've got our data in training and test sets... let's visualize again!"
   ]
  },
  {
   "cell_type": "code",
   "execution_count": 103,
   "id": "ee87b352",
   "metadata": {},
   "outputs": [
    {
     "data": {
      "text/plain": [
       "<matplotlib.legend.Legend at 0x222401b4100>"
      ]
     },
     "execution_count": 103,
     "metadata": {},
     "output_type": "execute_result"
    },
    {
     "data": {
      "image/png": "[encoded data removed]",
      "text/plain": [
       "<Figure size 720x504 with 1 Axes>"
      ]
     },
     "metadata": {
      "needs_background": "light"
     },
     "output_type": "display_data"
    }
   ],
   "source": [
    "plt.figure(figsize=(10,7))\n",
    "# Plot training data in blue\n",
    "plt.scatter(X_train,y_train, c=\"b\", label=\"Training data\") # our model will learn on this\n",
    "# Plot test data in green\n",
    "plt.scatter(X_test,y_test,c=\"g\",label=\"Testing data\") # want our model to be able to predict this (given X what's y?)\n",
    "# Show a legend\n",
    "plt.legend()"
   ]
  },
  {
   "cell_type": "code",
   "execution_count": 104,
   "id": "2ae4eaf4",
   "metadata": {},
   "outputs": [],
   "source": [
    "# Let's have a look at how to build a neural network for our data\n",
    "\n",
    "# 1. Create a model\n",
    "model = tf.keras.Sequential([\n",
    "    tf.keras.layers.Dense(1)\n",
    "])\n",
    "\n",
    "# 2. Compile the model\n",
    "model.compile(loss=tf.keras.losses.mae,\n",
    "             optimizer=tf.keras.optimizers.SGD(),\n",
    "             metrics=[\"mae\"])\n",
    "\n",
    "# 3. Fit the model\n",
    "# model.fit(X_train, y_train, epochs=100)"
   ]
  },
  {
   "cell_type": "markdown",
   "id": "e6f5dbc8",
   "metadata": {},
   "source": [
    "### Visualizing the model"
   ]
  },
  {
   "cell_type": "code",
   "execution_count": 105,
   "id": "faf6adc8",
   "metadata": {
    "scrolled": true
   },
   "outputs": [
    {
     "ename": "ValueError",
     "evalue": "This model has not yet been built. Build the model first by calling `build()` or calling `fit()` with some data, or specify an `input_shape` argument in the first layer(s) for automatic build.",
     "output_type": "error",
     "traceback": [
      "\u001b[1;31m---------------------------------------------------------------------------\u001b[0m",
      "\u001b[1;31mValueError\u001b[0m                                Traceback (most recent call last)",
      "\u001b[1;32m<ipython-input-105-5f15418b3570>\u001b[0m in \u001b[0;36m<module>\u001b[1;34m\u001b[0m\n\u001b[1;32m----> 1\u001b[1;33m \u001b[0mmodel\u001b[0m\u001b[1;33m.\u001b[0m\u001b[0msummary\u001b[0m\u001b[1;33m(\u001b[0m\u001b[1;33m)\u001b[0m\u001b[1;33m\u001b[0m\u001b[1;33m\u001b[0m\u001b[0m\n\u001b[0m",
      "\u001b[1;32m~\\anaconda3\\envs\\tensorflow\\lib\\site-packages\\tensorflow\\python\\keras\\engine\\training.py\u001b[0m in \u001b[0;36msummary\u001b[1;34m(self, line_length, positions, print_fn)\u001b[0m\n\u001b[0;32m   2349\u001b[0m     \"\"\"\n\u001b[0;32m   2350\u001b[0m     \u001b[1;32mif\u001b[0m \u001b[1;32mnot\u001b[0m \u001b[0mself\u001b[0m\u001b[1;33m.\u001b[0m\u001b[0mbuilt\u001b[0m\u001b[1;33m:\u001b[0m\u001b[1;33m\u001b[0m\u001b[1;33m\u001b[0m\u001b[0m\n\u001b[1;32m-> 2351\u001b[1;33m       raise ValueError('This model has not yet been built. '\n\u001b[0m\u001b[0;32m   2352\u001b[0m                        \u001b[1;34m'Build the model first by calling `build()` or calling '\u001b[0m\u001b[1;33m\u001b[0m\u001b[1;33m\u001b[0m\u001b[0m\n\u001b[0;32m   2353\u001b[0m                        \u001b[1;34m'`fit()` with some data, or specify '\u001b[0m\u001b[1;33m\u001b[0m\u001b[1;33m\u001b[0m\u001b[0m\n",
      "\u001b[1;31mValueError\u001b[0m: This model has not yet been built. Build the model first by calling `build()` or calling `fit()` with some data, or specify an `input_shape` argument in the first layer(s) for automatic build."
     ]
    }
   ],
   "source": [
    "model.summary()"
   ]
  },
  {
   "cell_type": "code",
   "execution_count": 106,
   "id": "f21afd32",
   "metadata": {},
   "outputs": [
    {
     "data": {
      "text/plain": [
       "(<tf.Tensor: shape=(), dtype=int32, numpy=-100>,\n",
       " <tf.Tensor: shape=(), dtype=int32, numpy=-90>)"
      ]
     },
     "execution_count": 106,
     "metadata": {},
     "output_type": "execute_result"
    }
   ],
   "source": [
    "X[0], y[0]"
   ]
  },
  {
   "cell_type": "code",
   "execution_count": 122,
   "id": "b10bb284",
   "metadata": {},
   "outputs": [],
   "source": [
    "# Let's create a model which builds automatically by defining the input_shape argument in the first layer\n",
    "tf.random.set_seed(42)\n",
    "\n",
    "# 1. Create a model (same as above)\n",
    "model = tf.keras.Sequential([\n",
    "    tf.keras.layers.Dense(10, input_shape=[1], name=\"input_layer\"),\n",
    "    tf.keras.layers.Dense(1, name=\"output_layer\")\n",
    "], name=\"model_1\")\n",
    "\n",
    "# 2. Compile the model\n",
    "model.compile(loss=tf.keras.losses.mae,\n",
    "             optimizer=tf.keras.optimizers.SGD(),\n",
    "             metrics=[\"mae\"])"
   ]
  },
  {
   "cell_type": "code",
   "execution_count": 123,
   "id": "ecc6c136",
   "metadata": {},
   "outputs": [
    {
     "name": "stdout",
     "output_type": "stream",
     "text": [
      "Model: \"model_1\"\n",
      "_________________________________________________________________\n",
      "Layer (type)                 Output Shape              Param #   \n",
      "=================================================================\n",
      "input_layer (Dense)          (None, 10)                20        \n",
      "_________________________________________________________________\n",
      "output_layer (Dense)         (None, 1)                 11        \n",
      "=================================================================\n",
      "Total params: 31\n",
      "Trainable params: 31\n",
      "Non-trainable params: 0\n",
      "_________________________________________________________________\n"
     ]
    }
   ],
   "source": [
    "model.summary()"
   ]
  },
  {
   "cell_type": "markdown",
   "id": "9dfa347a",
   "metadata": {},
   "source": [
    "* Total params - total number of parameters in the model\n",
    "* Trainable parameters - these are the parameters (patterns) the model can update as it trains.\n",
    "* Non-trainable params - these parameters aren't updated during training (this is typical when you bring in already learn patterns or parameters from other models during **transfer learning**)."
   ]
  },
  {
   "cell_type": "code",
   "execution_count": 124,
   "id": "bf3ab5a4",
   "metadata": {},
   "outputs": [
    {
     "data": {
      "text/plain": [
       "<tensorflow.python.keras.callbacks.History at 0x22241a71ca0>"
      ]
     },
     "execution_count": 124,
     "metadata": {},
     "output_type": "execute_result"
    }
   ],
   "source": [
    "# Let's fit our model to the training data\n",
    "model.fit(X_train, y_train, epochs=100, verbose=0)"
   ]
  },
  {
   "cell_type": "code",
   "execution_count": 125,
   "id": "35a1a206",
   "metadata": {},
   "outputs": [
    {
     "name": "stdout",
     "output_type": "stream",
     "text": [
      "Model: \"model_1\"\n",
      "_________________________________________________________________\n",
      "Layer (type)                 Output Shape              Param #   \n",
      "=================================================================\n",
      "input_layer (Dense)          (None, 10)                20        \n",
      "_________________________________________________________________\n",
      "output_layer (Dense)         (None, 1)                 11        \n",
      "=================================================================\n",
      "Total params: 31\n",
      "Trainable params: 31\n",
      "Non-trainable params: 0\n",
      "_________________________________________________________________\n"
     ]
    }
   ],
   "source": [
    "# Get a summary of our model\n",
    "model.summary()"
   ]
  },
  {
   "cell_type": "code",
   "execution_count": 127,
   "id": "883b2939",
   "metadata": {},
   "outputs": [
    {
     "data": {
      "image/png": "[encoded data removed]",
      "text/plain": [
       "<IPython.core.display.Image object>"
      ]
     },
     "execution_count": 127,
     "metadata": {},
     "output_type": "execute_result"
    }
   ],
   "source": [
    "from tensorflow.keras.utils import plot_model\n",
    "\n",
    "plot_model(model=model, show_shapes=True)"
   ]
  },
  {
   "cell_type": "code",
   "execution_count": null,
   "id": "54f599e0",
   "metadata": {},
   "outputs": [],
   "source": []
  },
  {
   "cell_type": "code",
   "execution_count": null,
   "id": "e63bc1d1",
   "metadata": {},
   "outputs": [],
   "source": []
  },
  {
   "cell_type": "code",
   "execution_count": null,
   "id": "de6a011a",
   "metadata": {},
   "outputs": [],
   "source": []
  },
  {
   "cell_type": "code",
   "execution_count": null,
   "id": "48e9dc07",
   "metadata": {},
   "outputs": [],
   "source": []
  },
  {
   "cell_type": "code",
   "execution_count": null,
   "id": "5a16ab54",
   "metadata": {},
   "outputs": [],
   "source": []
  },
  {
   "cell_type": "code",
   "execution_count": null,
   "id": "e8476f2b",
   "metadata": {},
   "outputs": [],
   "source": []
  },
  {
   "cell_type": "code",
   "execution_count": null,
   "id": "344187d0",
   "metadata": {},
   "outputs": [],
   "source": []
  }
 ],
 "metadata": {
  "kernelspec": {
   "display_name": "Python 3",
   "language": "python",
   "name": "python3"
  },
  "language_info": {
   "codemirror_mode": {
    "name": "ipython",
    "version": 3
   },
   "file_extension": ".py",
   "mimetype": "text/x-python",
   "name": "python",
   "nbconvert_exporter": "python",
   "pygments_lexer": "ipython3",
   "version": "3.8.8"
  }
 },
 "nbformat": 4,
 "nbformat_minor": 5
}
