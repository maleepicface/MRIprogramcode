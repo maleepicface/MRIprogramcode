{
 "cells": [
  {
   "cell_type": "markdown",
   "id": "13f53a39",
   "metadata": {},
   "source": [
    "# Introduction to Regression with Neural Networks in TensorFlow\n",
    "\n",
    "There are many definitions for a regression problem, but in our case, we're going to simplify it: predicting a numerical variable based on some other combination of variables, even shorter... predicting a number."
   ]
  },
  {
   "cell_type": "code",
   "execution_count": 1,
   "id": "c7ec2b82",
   "metadata": {},
   "outputs": [
    {
     "name": "stdout",
     "output_type": "stream",
     "text": [
      "2.3.0\n"
     ]
    }
   ],
   "source": [
    "# Import TensorFlow\n",
    "import tensorflow as tf\n",
    "print(tf.__version__)"
   ]
  },
  {
   "cell_type": "markdown",
   "id": "e165ed56",
   "metadata": {},
   "source": [
    "## Creating data to view and fit"
   ]
  },
  {
   "cell_type": "code",
   "execution_count": 3,
   "id": "b370791b",
   "metadata": {},
   "outputs": [
    {
     "data": {
      "text/plain": [
       "<matplotlib.collections.PathCollection at 0x24d32a0c370>"
      ]
     },
     "execution_count": 3,
     "metadata": {},
     "output_type": "execute_result"
    },
    {
     "data": {
      "image/png": "[encoded data removed]",
      "text/plain": [
       "<Figure size 432x288 with 1 Axes>"
      ]
     },
     "metadata": {
      "needs_background": "light"
     },
     "output_type": "display_data"
    }
   ],
   "source": [
    "import numpy as np\n",
    "import matplotlib.pyplot as plt\n",
    "\n",
    "# Create features\n",
    "X = np.array([-7.0,-4.0,-1.0,2.0,5.0,8.0,11.0,14.0])\n",
    "\n",
    "# Create labels\n",
    "y = np.array([3.0,6.0,9.0,12.0,15.0,18.0,21.0,24.0])\n",
    "\n",
    "# Visualize it\n",
    "plt.scatter(X, y)"
   ]
  },
  {
   "cell_type": "code",
   "execution_count": 5,
   "id": "d66dd3f7",
   "metadata": {},
   "outputs": [
    {
     "data": {
      "text/plain": [
       "array([ True,  True,  True,  True,  True,  True,  True,  True])"
      ]
     },
     "execution_count": 5,
     "metadata": {},
     "output_type": "execute_result"
    }
   ],
   "source": [
    "y == X + 10"
   ]
  },
  {
   "cell_type": "markdown",
   "id": "c8121eb4",
   "metadata": {},
   "source": [
    "## Input and output shapes"
   ]
  },
  {
   "cell_type": "code",
   "execution_count": 6,
   "id": "75312378",
   "metadata": {
    "scrolled": true
   },
   "outputs": [
    {
     "data": {
      "text/plain": [
       "(<tf.Tensor: shape=(3,), dtype=string, numpy=array([b'bedroom', b'bathroom', b'garage'], dtype=object)>,\n",
       " <tf.Tensor: shape=(1,), dtype=int32, numpy=array([939700])>)"
      ]
     },
     "execution_count": 6,
     "metadata": {},
     "output_type": "execute_result"
    }
   ],
   "source": [
    "# Create a demo tensor for our housing price prediction problem\n",
    "house_info = tf.constant(['bedroom', 'bathroom', 'garage'])\n",
    "house_price = tf.constant([939700])\n",
    "house_info, house_price"
   ]
  },
  {
   "cell_type": "code",
   "execution_count": 9,
   "id": "48212cac",
   "metadata": {
    "scrolled": true
   },
   "outputs": [
    {
     "data": {
      "text/plain": [
       "(-7.0, 3.0)"
      ]
     },
     "execution_count": 9,
     "metadata": {},
     "output_type": "execute_result"
    }
   ],
   "source": [
    "X[0], y[0]"
   ]
  },
  {
   "cell_type": "code",
   "execution_count": 10,
   "id": "fb7bcbab",
   "metadata": {},
   "outputs": [
    {
     "data": {
      "text/plain": [
       "(-4.0, 6.0)"
      ]
     },
     "execution_count": 10,
     "metadata": {},
     "output_type": "execute_result"
    }
   ],
   "source": [
    "X[1], y[1]"
   ]
  },
  {
   "cell_type": "code",
   "execution_count": 11,
   "id": "f6bcf10e",
   "metadata": {},
   "outputs": [
    {
     "data": {
      "text/plain": [
       "((), ())"
      ]
     },
     "execution_count": 11,
     "metadata": {},
     "output_type": "execute_result"
    }
   ],
   "source": [
    "input_shape = X[0].shape\n",
    "output_shape = y[0].shape\n",
    "input_shape, output_shape"
   ]
  },
  {
   "cell_type": "code",
   "execution_count": 12,
   "id": "93e8ee86",
   "metadata": {},
   "outputs": [
    {
     "data": {
      "text/plain": [
       "0"
      ]
     },
     "execution_count": 12,
     "metadata": {},
     "output_type": "execute_result"
    }
   ],
   "source": [
    "X[0].ndim"
   ]
  },
  {
   "cell_type": "code",
   "execution_count": 13,
   "id": "6b1a3a51",
   "metadata": {},
   "outputs": [
    {
     "data": {
      "text/plain": [
       "(-7.0, 3.0)"
      ]
     },
     "execution_count": 13,
     "metadata": {},
     "output_type": "execute_result"
    }
   ],
   "source": [
    "X[0], y[0]"
   ]
  },
  {
   "cell_type": "code",
   "execution_count": 20,
   "id": "2d4ca808",
   "metadata": {},
   "outputs": [
    {
     "data": {
      "text/plain": [
       "(<tf.Tensor: shape=(8,), dtype=float32, numpy=array([-7., -4., -1.,  2.,  5.,  8., 11., 14.], dtype=float32)>,\n",
       " <tf.Tensor: shape=(8,), dtype=float32, numpy=array([ 3.,  6.,  9., 12., 15., 18., 21., 24.], dtype=float32)>)"
      ]
     },
     "execution_count": 20,
     "metadata": {},
     "output_type": "execute_result"
    }
   ],
   "source": [
    "# Turn our NumPy arrays into tensors with dtype float32\n",
    "X = tf.cast(tf.constant(X), dtype=tf.float32)\n",
    "y = tf.cast(tf.constant(y), dtype=tf.float32)\n",
    "X, y"
   ]
  },
  {
   "cell_type": "code",
   "execution_count": 15,
   "id": "2d36c6ee",
   "metadata": {},
   "outputs": [
    {
     "data": {
      "text/plain": [
       "(TensorShape([]), TensorShape([]))"
      ]
     },
     "execution_count": 15,
     "metadata": {},
     "output_type": "execute_result"
    }
   ],
   "source": [
    "input_shape = X[0].shape\n",
    "output_shape = y[0].shape\n",
    "input_shape, output_shape"
   ]
  },
  {
   "cell_type": "code",
   "execution_count": 17,
   "id": "5f5487a1",
   "metadata": {},
   "outputs": [
    {
     "data": {
      "text/plain": [
       "<matplotlib.collections.PathCollection at 0x24d2a9f5130>"
      ]
     },
     "execution_count": 17,
     "metadata": {},
     "output_type": "execute_result"
    },
    {
     "data": {
      "image/png": "[encoded data removed]",
      "text/plain": [
       "<Figure size 432x288 with 1 Axes>"
      ]
     },
     "metadata": {
      "needs_background": "light"
     },
     "output_type": "display_data"
    }
   ],
   "source": [
    "plt.scatter(X, y)"
   ]
  },
  {
   "cell_type": "markdown",
   "id": "196592a8",
   "metadata": {},
   "source": [
    "## Steps in modeling with TensorFlow\n",
    "\n",
    "1. **Creating a model** - define the input and output layers, as well as the hidden layers of a deep learning model.\n",
    "2. **Compiling a model** - define the loss function (in other words, the function which tells our model how wrong it is) and the optimizer (tells our model how to improve the patterns it's learning) and evaluation metrics (what we can use to interpret the performance of our model).\n",
    "3. **Fitting a model** - letting the model try to find patterns between X & y (features and labels)."
   ]
  },
  {
   "cell_type": "code",
   "execution_count": 28,
   "id": "98bcf9e2",
   "metadata": {},
   "outputs": [
    {
     "name": "stdout",
     "output_type": "stream",
     "text": [
      "Epoch 1/5\n",
      "1/1 [==============================] - 0s 500us/step - loss: 11.5048 - mae: 11.5048\n",
      "Epoch 2/5\n",
      "1/1 [==============================] - 0s 500us/step - loss: 11.3723 - mae: 11.3723\n",
      "Epoch 3/5\n",
      "1/1 [==============================] - 0s 500us/step - loss: 11.2398 - mae: 11.2398\n",
      "Epoch 4/5\n",
      "1/1 [==============================] - 0s 501us/step - loss: 11.1073 - mae: 11.1073\n",
      "Epoch 5/5\n",
      "1/1 [==============================] - 0s 0s/step - loss: 10.9748 - mae: 10.9748\n"
     ]
    },
    {
     "data": {
      "text/plain": [
       "<tensorflow.python.keras.callbacks.History at 0x24d359e0ee0>"
      ]
     },
     "execution_count": 28,
     "metadata": {},
     "output_type": "execute_result"
    }
   ],
   "source": [
    "# Set random seed\n",
    "tf.random.set_seed(42)\n",
    "\n",
    "# 1. Create a model using the Sequential API\n",
    "model = tf.keras.Sequential([\n",
    "    tf.keras.layers.Dense(1)\n",
    "])\n",
    "\n",
    "\"\"\"\n",
    "or: \n",
    "model = tf.keras.Sequential()\n",
    "model.add(tf.keras.layers.Dense(1))\n",
    "\"\"\"\n",
    "\n",
    "# 2. Compile the model\n",
    "model.compile(loss=tf.keras.losses.mae, # mae is short for mean absolute error\n",
    "             optimizer=tf.keras.optimizers.SGD(), # SGD is short for stochastic gradient descent\n",
    "             metrics=[\"mae\"])\n",
    "\n",
    "# 3. Fit the model\n",
    "model.fit(X, y, epochs=5)"
   ]
  },
  {
   "cell_type": "code",
   "execution_count": 24,
   "id": "d4c6746c",
   "metadata": {},
   "outputs": [
    {
     "data": {
      "text/plain": [
       "(<tf.Tensor: shape=(8,), dtype=float32, numpy=array([-7., -4., -1.,  2.,  5.,  8., 11., 14.], dtype=float32)>,\n",
       " <tf.Tensor: shape=(8,), dtype=float32, numpy=array([ 3.,  6.,  9., 12., 15., 18., 21., 24.], dtype=float32)>)"
      ]
     },
     "execution_count": 24,
     "metadata": {},
     "output_type": "execute_result"
    }
   ],
   "source": [
    "# Check out X and y\n",
    "X, y"
   ]
  },
  {
   "cell_type": "code",
   "execution_count": 30,
   "id": "b572e9c4",
   "metadata": {},
   "outputs": [
    {
     "data": {
      "text/plain": [
       "array([[12.716021]], dtype=float32)"
      ]
     },
     "execution_count": 30,
     "metadata": {},
     "output_type": "execute_result"
    }
   ],
   "source": [
    "# Try and make a prediction using our model\n",
    "y_pred = model.predict([17.0])\n",
    "y_pred"
   ]
  },
  {
   "cell_type": "code",
   "execution_count": 31,
   "id": "e0dbc4f8",
   "metadata": {},
   "outputs": [
    {
     "data": {
      "text/plain": [
       "array([[23.71602]], dtype=float32)"
      ]
     },
     "execution_count": 31,
     "metadata": {},
     "output_type": "execute_result"
    }
   ],
   "source": [
    "y_pred + 11"
   ]
  },
  {
   "cell_type": "markdown",
   "id": "208ef097",
   "metadata": {},
   "source": [
    "## Improving our model\n",
    "\n",
    "We can improve our model by altering the steps we took to create a model.\n",
    "\n",
    "1. **Creating a model** - here we might add more layers, increase the number of hidden units (also called neurons) within each of the hidden layers, or change the activation function of each layer\n",
    "2. **Compiling a model** - here we might change the optimization function  or perhaps the **learning rate** of the optimization function.\n",
    "3. **Fitting a model** - here we might fit a model for some **epochs** (leave it training for longer) or on more data (give the model more examples to learn from)."
   ]
  },
  {
   "cell_type": "code",
   "execution_count": 35,
   "id": "31c1581e",
   "metadata": {},
   "outputs": [
    {
     "name": "stdout",
     "output_type": "stream",
     "text": [
      "Epoch 1/100\n",
      "1/1 [==============================] - 0s 501us/step - loss: 10.5874 - mae: 10.5874\n",
      "Epoch 2/100\n",
      "1/1 [==============================] - 0s 501us/step - loss: 10.4549 - mae: 10.4549\n",
      "Epoch 3/100\n",
      "1/1 [==============================] - 0s 0s/step - loss: 10.3224 - mae: 10.3224\n",
      "Epoch 4/100\n",
      "1/1 [==============================] - 0s 0s/step - loss: 10.1899 - mae: 10.1899\n",
      "Epoch 5/100\n",
      "1/1 [==============================] - 0s 500us/step - loss: 10.0574 - mae: 10.0574\n",
      "Epoch 6/100\n",
      "1/1 [==============================] - 0s 500us/step - loss: 9.9249 - mae: 9.9249\n",
      "Epoch 7/100\n",
      "1/1 [==============================] - 0s 501us/step - loss: 9.7924 - mae: 9.7924\n",
      "Epoch 8/100\n",
      "1/1 [==============================] - 0s 501us/step - loss: 9.6599 - mae: 9.6599\n",
      "Epoch 9/100\n",
      "1/1 [==============================] - 0s 501us/step - loss: 9.5274 - mae: 9.5274\n",
      "Epoch 10/100\n",
      "1/1 [==============================] - 0s 500us/step - loss: 9.3949 - mae: 9.3949\n",
      "Epoch 11/100\n",
      "1/1 [==============================] - 0s 501us/step - loss: 9.2624 - mae: 9.2624\n",
      "Epoch 12/100\n",
      "1/1 [==============================] - 0s 501us/step - loss: 9.1299 - mae: 9.1299\n",
      "Epoch 13/100\n",
      "1/1 [==============================] - 0s 0s/step - loss: 8.9974 - mae: 8.9974\n",
      "Epoch 14/100\n",
      "1/1 [==============================] - 0s 501us/step - loss: 8.8649 - mae: 8.8649\n",
      "Epoch 15/100\n",
      "1/1 [==============================] - 0s 500us/step - loss: 8.7324 - mae: 8.7324\n",
      "Epoch 16/100\n",
      "1/1 [==============================] - 0s 501us/step - loss: 8.5999 - mae: 8.5999\n",
      "Epoch 17/100\n",
      "1/1 [==============================] - 0s 500us/step - loss: 8.4674 - mae: 8.4674\n",
      "Epoch 18/100\n",
      "1/1 [==============================] - 0s 500us/step - loss: 8.3349 - mae: 8.3349\n",
      "Epoch 19/100\n",
      "1/1 [==============================] - 0s 500us/step - loss: 8.2024 - mae: 8.2024\n",
      "Epoch 20/100\n",
      "1/1 [==============================] - 0s 0s/step - loss: 8.0699 - mae: 8.0699\n",
      "Epoch 21/100\n",
      "1/1 [==============================] - 0s 500us/step - loss: 7.9374 - mae: 7.9374\n",
      "Epoch 22/100\n",
      "1/1 [==============================] - 0s 500us/step - loss: 7.8049 - mae: 7.8049\n",
      "Epoch 23/100\n",
      "1/1 [==============================] - 0s 0s/step - loss: 7.6724 - mae: 7.6724\n",
      "Epoch 24/100\n",
      "1/1 [==============================] - 0s 500us/step - loss: 7.5399 - mae: 7.5399\n",
      "Epoch 25/100\n",
      "1/1 [==============================] - 0s 501us/step - loss: 7.4074 - mae: 7.4074\n",
      "Epoch 26/100\n",
      "1/1 [==============================] - 0s 501us/step - loss: 7.3125 - mae: 7.3125\n",
      "Epoch 27/100\n",
      "1/1 [==============================] - 0s 501us/step - loss: 7.3069 - mae: 7.3069\n",
      "Epoch 28/100\n",
      "1/1 [==============================] - 0s 500us/step - loss: 7.3012 - mae: 7.3012\n",
      "Epoch 29/100\n",
      "1/1 [==============================] - 0s 500us/step - loss: 7.2956 - mae: 7.2956\n",
      "Epoch 30/100\n",
      "1/1 [==============================] - 0s 500us/step - loss: 7.2900 - mae: 7.2900\n",
      "Epoch 31/100\n",
      "1/1 [==============================] - 0s 501us/step - loss: 7.2844 - mae: 7.2844\n",
      "Epoch 32/100\n",
      "1/1 [==============================] - 0s 0s/step - loss: 7.2787 - mae: 7.2787\n",
      "Epoch 33/100\n",
      "1/1 [==============================] - 0s 0s/step - loss: 7.2731 - mae: 7.2731\n",
      "Epoch 34/100\n",
      "1/1 [==============================] - 0s 0s/step - loss: 7.2675 - mae: 7.2675\n",
      "Epoch 35/100\n",
      "1/1 [==============================] - 0s 0s/step - loss: 7.2619 - mae: 7.2619\n",
      "Epoch 36/100\n",
      "1/1 [==============================] - 0s 501us/step - loss: 7.2562 - mae: 7.2562\n",
      "Epoch 37/100\n",
      "1/1 [==============================] - 0s 501us/step - loss: 7.2506 - mae: 7.2506\n",
      "Epoch 38/100\n",
      "1/1 [==============================] - 0s 500us/step - loss: 7.2450 - mae: 7.2450\n",
      "Epoch 39/100\n",
      "1/1 [==============================] - 0s 500us/step - loss: 7.2394 - mae: 7.2394\n",
      "Epoch 40/100\n",
      "1/1 [==============================] - 0s 501us/step - loss: 7.2337 - mae: 7.2337\n",
      "Epoch 41/100\n",
      "1/1 [==============================] - 0s 501us/step - loss: 7.2281 - mae: 7.2281\n",
      "Epoch 42/100\n",
      "1/1 [==============================] - 0s 501us/step - loss: 7.2225 - mae: 7.2225\n",
      "Epoch 43/100\n",
      "1/1 [==============================] - 0s 0s/step - loss: 7.2169 - mae: 7.2169\n",
      "Epoch 44/100\n",
      "1/1 [==============================] - 0s 500us/step - loss: 7.2112 - mae: 7.2112\n",
      "Epoch 45/100\n",
      "1/1 [==============================] - 0s 500us/step - loss: 7.2056 - mae: 7.2056\n",
      "Epoch 46/100\n",
      "1/1 [==============================] - 0s 500us/step - loss: 7.2000 - mae: 7.2000\n",
      "Epoch 47/100\n",
      "1/1 [==============================] - 0s 501us/step - loss: 7.1944 - mae: 7.1944\n",
      "Epoch 48/100\n",
      "1/1 [==============================] - 0s 501us/step - loss: 7.1888 - mae: 7.1888\n",
      "Epoch 49/100\n",
      "1/1 [==============================] - 0s 500us/step - loss: 7.1831 - mae: 7.1831\n",
      "Epoch 50/100\n",
      "1/1 [==============================] - 0s 502us/step - loss: 7.1775 - mae: 7.1775\n",
      "Epoch 51/100\n",
      "1/1 [==============================] - 0s 0s/step - loss: 7.1719 - mae: 7.1719\n",
      "Epoch 52/100\n",
      "1/1 [==============================] - 0s 501us/step - loss: 7.1662 - mae: 7.1662\n",
      "Epoch 53/100\n",
      "1/1 [==============================] - 0s 500us/step - loss: 7.1606 - mae: 7.1606\n",
      "Epoch 54/100\n",
      "1/1 [==============================] - 0s 500us/step - loss: 7.1550 - mae: 7.1550\n",
      "Epoch 55/100\n",
      "1/1 [==============================] - 0s 500us/step - loss: 7.1494 - mae: 7.1494\n",
      "Epoch 56/100\n",
      "1/1 [==============================] - 0s 500us/step - loss: 7.1438 - mae: 7.1438\n",
      "Epoch 57/100\n",
      "1/1 [==============================] - 0s 501us/step - loss: 7.1381 - mae: 7.1381\n",
      "Epoch 58/100\n",
      "1/1 [==============================] - 0s 500us/step - loss: 7.1325 - mae: 7.1325\n",
      "Epoch 59/100\n",
      "1/1 [==============================] - 0s 501us/step - loss: 7.1269 - mae: 7.1269\n",
      "Epoch 60/100\n",
      "1/1 [==============================] - 0s 500us/step - loss: 7.1213 - mae: 7.1213\n",
      "Epoch 61/100\n",
      "1/1 [==============================] - 0s 500us/step - loss: 7.1156 - mae: 7.1156\n",
      "Epoch 62/100\n",
      "1/1 [==============================] - 0s 501us/step - loss: 7.1100 - mae: 7.1100\n",
      "Epoch 63/100\n",
      "1/1 [==============================] - 0s 501us/step - loss: 7.1044 - mae: 7.1044\n",
      "Epoch 64/100\n",
      "1/1 [==============================] - 0s 0s/step - loss: 7.0988 - mae: 7.0988\n",
      "Epoch 65/100\n",
      "1/1 [==============================] - 0s 501us/step - loss: 7.0931 - mae: 7.0931\n",
      "Epoch 66/100\n",
      "1/1 [==============================] - 0s 501us/step - loss: 7.0875 - mae: 7.0875\n",
      "Epoch 67/100\n",
      "1/1 [==============================] - 0s 500us/step - loss: 7.0819 - mae: 7.0819\n",
      "Epoch 68/100\n",
      "1/1 [==============================] - 0s 500us/step - loss: 7.0763 - mae: 7.0763\n",
      "Epoch 69/100\n",
      "1/1 [==============================] - 0s 502us/step - loss: 7.0706 - mae: 7.0706\n",
      "Epoch 70/100\n",
      "1/1 [==============================] - 0s 501us/step - loss: 7.0650 - mae: 7.0650\n",
      "Epoch 71/100\n",
      "1/1 [==============================] - 0s 500us/step - loss: 7.0594 - mae: 7.0594\n",
      "Epoch 72/100\n",
      "1/1 [==============================] - 0s 500us/step - loss: 7.0538 - mae: 7.0538\n",
      "Epoch 73/100\n",
      "1/1 [==============================] - 0s 500us/step - loss: 7.0481 - mae: 7.0481\n",
      "Epoch 74/100\n",
      "1/1 [==============================] - 0s 500us/step - loss: 7.0425 - mae: 7.0425\n",
      "Epoch 75/100\n",
      "1/1 [==============================] - 0s 500us/step - loss: 7.0369 - mae: 7.0369\n",
      "Epoch 76/100\n",
      "1/1 [==============================] - 0s 0s/step - loss: 7.0312 - mae: 7.0312\n",
      "Epoch 77/100\n",
      "1/1 [==============================] - 0s 0s/step - loss: 7.0256 - mae: 7.0256\n",
      "Epoch 78/100\n",
      "1/1 [==============================] - 0s 0s/step - loss: 7.0200 - mae: 7.0200\n",
      "Epoch 79/100\n",
      "1/1 [==============================] - 0s 500us/step - loss: 7.0144 - mae: 7.0144\n",
      "Epoch 80/100\n",
      "1/1 [==============================] - 0s 500us/step - loss: 7.0087 - mae: 7.0087\n",
      "Epoch 81/100\n",
      "1/1 [==============================] - 0s 500us/step - loss: 7.0031 - mae: 7.0031\n",
      "Epoch 82/100\n",
      "1/1 [==============================] - 0s 0s/step - loss: 6.9975 - mae: 6.9975\n",
      "Epoch 83/100\n",
      "1/1 [==============================] - 0s 500us/step - loss: 6.9919 - mae: 6.9919\n",
      "Epoch 84/100\n",
      "1/1 [==============================] - 0s 501us/step - loss: 6.9862 - mae: 6.9862\n",
      "Epoch 85/100\n",
      "1/1 [==============================] - 0s 500us/step - loss: 6.9806 - mae: 6.9806\n",
      "Epoch 86/100\n",
      "1/1 [==============================] - 0s 501us/step - loss: 6.9750 - mae: 6.9750\n",
      "Epoch 87/100\n"
     ]
    },
    {
     "name": "stdout",
     "output_type": "stream",
     "text": [
      "1/1 [==============================] - 0s 500us/step - loss: 6.9694 - mae: 6.9694\n",
      "Epoch 88/100\n",
      "1/1 [==============================] - 0s 0s/step - loss: 6.9637 - mae: 6.9637\n",
      "Epoch 89/100\n",
      "1/1 [==============================] - 0s 500us/step - loss: 6.9581 - mae: 6.9581\n",
      "Epoch 90/100\n",
      "1/1 [==============================] - 0s 0s/step - loss: 6.9525 - mae: 6.9525\n",
      "Epoch 91/100\n",
      "1/1 [==============================] - 0s 500us/step - loss: 6.9469 - mae: 6.9469\n",
      "Epoch 92/100\n",
      "1/1 [==============================] - 0s 501us/step - loss: 6.9412 - mae: 6.9412\n",
      "Epoch 93/100\n",
      "1/1 [==============================] - 0s 501us/step - loss: 6.9356 - mae: 6.9356\n",
      "Epoch 94/100\n",
      "1/1 [==============================] - 0s 500us/step - loss: 6.9300 - mae: 6.9300\n",
      "Epoch 95/100\n",
      "1/1 [==============================] - 0s 500us/step - loss: 6.9244 - mae: 6.9244\n",
      "Epoch 96/100\n",
      "1/1 [==============================] - 0s 500us/step - loss: 6.9188 - mae: 6.9188\n",
      "Epoch 97/100\n",
      "1/1 [==============================] - 0s 0s/step - loss: 6.9131 - mae: 6.9131\n",
      "Epoch 98/100\n",
      "1/1 [==============================] - 0s 0s/step - loss: 6.9075 - mae: 6.9075\n",
      "Epoch 99/100\n",
      "1/1 [==============================] - 0s 0s/step - loss: 6.9019 - mae: 6.9019\n",
      "Epoch 100/100\n",
      "1/1 [==============================] - 0s 0s/step - loss: 6.8963 - mae: 6.8963\n"
     ]
    },
    {
     "data": {
      "text/plain": [
       "<tensorflow.python.keras.callbacks.History at 0x24d37093eb0>"
      ]
     },
     "execution_count": 35,
     "metadata": {},
     "output_type": "execute_result"
    }
   ],
   "source": [
    "# Let's rebuild our model\n",
    "\n",
    "# 1. Create the model\n",
    "model = tf.keras.Sequential([\n",
    "    tf.keras.layers.Dense(1)\n",
    "])\n",
    "\n",
    "# 2. Compile the model\n",
    "model.compile(loss=tf.keras.losses.mae,\n",
    "             optimizer=tf.keras.optimizers.SGD(),\n",
    "             metrics=[\"mae\"])\n",
    "\n",
    "# 3. Fit the model (this time we'll train for longer)\n",
    "model.fit(X, y, epochs=100)"
   ]
  },
  {
   "cell_type": "code",
   "execution_count": 36,
   "id": "f59445e4",
   "metadata": {},
   "outputs": [
    {
     "data": {
      "text/plain": [
       "(<tf.Tensor: shape=(8,), dtype=float32, numpy=array([-7., -4., -1.,  2.,  5.,  8., 11., 14.], dtype=float32)>,\n",
       " <tf.Tensor: shape=(8,), dtype=float32, numpy=array([ 3.,  6.,  9., 12., 15., 18., 21., 24.], dtype=float32)>)"
      ]
     },
     "execution_count": 36,
     "metadata": {},
     "output_type": "execute_result"
    }
   ],
   "source": [
    "# Remind ourselves of the data\n",
    "X, y"
   ]
  },
  {
   "cell_type": "code",
   "execution_count": null,
   "id": "839b8809",
   "metadata": {},
   "outputs": [],
   "source": []
  }
 ],
 "metadata": {
  "kernelspec": {
   "display_name": "Python 3",
   "language": "python",
   "name": "python3"
  },
  "language_info": {
   "codemirror_mode": {
    "name": "ipython",
    "version": 3
   },
   "file_extension": ".py",
   "mimetype": "text/x-python",
   "name": "python",
   "nbconvert_exporter": "python",
   "pygments_lexer": "ipython3",
   "version": "3.8.8"
  }
 },
 "nbformat": 4,
 "nbformat_minor": 5
}
