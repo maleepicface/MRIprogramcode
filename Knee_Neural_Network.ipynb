{
  "nbformat": 4,
  "nbformat_minor": 0,
  "metadata": {
    "colab": {
      "name": "Knee Neural Network.ipynb",
      "provenance": [],
      "collapsed_sections": [],
      "toc_visible": true
    },
    "kernelspec": {
      "name": "python3",
      "display_name": "Python 3"
    },
    "language_info": {
      "name": "python"
    }
  },
  "cells": [
    {
      "cell_type": "markdown",
      "metadata": {
        "id": "H4HznG8_WsWR"
      },
      "source": [
        "# Imports & Google Drive Mount"
      ]
    },
    {
      "cell_type": "code",
      "metadata": {
        "id": "1wKVHi2QbrG_"
      },
      "source": [
        "# TensorFlow and keras\n",
        "import tensorflow as tf\n",
        "from tensorflow import keras\n",
        "\n",
        "# Helper libraries\n",
        "import matplotlib.pyplot as plt\n",
        "import pandas as pd\n",
        "import numpy as np\n",
        "import os\n",
        "import time as t\n",
        "import fileinput\n",
        "import glob"
      ],
      "execution_count": null,
      "outputs": []
    },
    {
      "cell_type": "code",
      "metadata": {
        "colab": {
          "base_uri": "https://localhost:8080/"
        },
        "id": "R_jY_qoZdGoD",
        "outputId": "5ff3155a-3d84-4b33-8db0-050d5ec15499"
      },
      "source": [
        "#Google Drive Mount\n",
        "from google.colab import drive\n",
        "drive.mount('/content/drive')"
      ],
      "execution_count": null,
      "outputs": [
        {
          "output_type": "stream",
          "text": [
            "Drive already mounted at /content/drive; to attempt to forcibly remount, call drive.mount(\"/content/drive\", force_remount=True).\n"
          ],
          "name": "stdout"
        }
      ]
    },
    {
      "cell_type": "code",
      "metadata": {
        "colab": {
          "base_uri": "https://localhost:8080/"
        },
        "id": "KsZ6c0uwpfmi",
        "outputId": "dcc314fc-899e-4048-a2b4-080906c0d577"
      },
      "source": [
        "from google.colab import drive\n",
        "drive.mount('/content/drive')"
      ],
      "execution_count": null,
      "outputs": [
        {
          "output_type": "stream",
          "text": [
            "Drive already mounted at /content/drive; to attempt to forcibly remount, call drive.mount(\"/content/drive\", force_remount=True).\n"
          ],
          "name": "stdout"
        }
      ]
    },
    {
      "cell_type": "markdown",
      "metadata": {
        "id": "L2AyI6eZWxfz"
      },
      "source": [
        "# Visualization"
      ]
    },
    {
      "cell_type": "code",
      "metadata": {
        "id": "gCeJI7Vjb4kI",
        "colab": {
          "base_uri": "https://localhost:8080/",
          "height": 334
        },
        "outputId": "91622ec5-27af-4dab-f404-2d76e3abce29"
      },
      "source": [
        "# Loads array of train axial 0000.npy\n",
        "axial0000 = np.load('/content/drive/MyDrive/MRNet-v1.0/MRNet-v1.0/train/axial/0000.npy')\n"
      ],
      "execution_count": null,
      "outputs": [
        {
          "output_type": "error",
          "ename": "FileNotFoundError",
          "evalue": "ignored",
          "traceback": [
            "\u001b[0;31m---------------------------------------------------------------------------\u001b[0m",
            "\u001b[0;31mFileNotFoundError\u001b[0m                         Traceback (most recent call last)",
            "\u001b[0;32m<ipython-input-8-dc862e66cabc>\u001b[0m in \u001b[0;36m<module>\u001b[0;34m()\u001b[0m\n\u001b[1;32m      1\u001b[0m \u001b[0;31m# Loads array of train axial 0000.npy\u001b[0m\u001b[0;34m\u001b[0m\u001b[0;34m\u001b[0m\u001b[0;34m\u001b[0m\u001b[0m\n\u001b[0;32m----> 2\u001b[0;31m \u001b[0maxial0000\u001b[0m \u001b[0;34m=\u001b[0m \u001b[0mnp\u001b[0m\u001b[0;34m.\u001b[0m\u001b[0mload\u001b[0m\u001b[0;34m(\u001b[0m\u001b[0;34m'/content/drive/MyDrive/MRNet-v1.0/MRNet-v1.0/train/axial/0000.npy'\u001b[0m\u001b[0;34m)\u001b[0m\u001b[0;34m\u001b[0m\u001b[0;34m\u001b[0m\u001b[0m\n\u001b[0m",
            "\u001b[0;32m/usr/local/lib/python3.7/dist-packages/numpy/lib/npyio.py\u001b[0m in \u001b[0;36mload\u001b[0;34m(file, mmap_mode, allow_pickle, fix_imports, encoding)\u001b[0m\n\u001b[1;32m    414\u001b[0m             \u001b[0mown_fid\u001b[0m \u001b[0;34m=\u001b[0m \u001b[0;32mFalse\u001b[0m\u001b[0;34m\u001b[0m\u001b[0;34m\u001b[0m\u001b[0m\n\u001b[1;32m    415\u001b[0m         \u001b[0;32melse\u001b[0m\u001b[0;34m:\u001b[0m\u001b[0;34m\u001b[0m\u001b[0;34m\u001b[0m\u001b[0m\n\u001b[0;32m--> 416\u001b[0;31m             \u001b[0mfid\u001b[0m \u001b[0;34m=\u001b[0m \u001b[0mstack\u001b[0m\u001b[0;34m.\u001b[0m\u001b[0menter_context\u001b[0m\u001b[0;34m(\u001b[0m\u001b[0mopen\u001b[0m\u001b[0;34m(\u001b[0m\u001b[0mos_fspath\u001b[0m\u001b[0;34m(\u001b[0m\u001b[0mfile\u001b[0m\u001b[0;34m)\u001b[0m\u001b[0;34m,\u001b[0m \u001b[0;34m\"rb\"\u001b[0m\u001b[0;34m)\u001b[0m\u001b[0;34m)\u001b[0m\u001b[0;34m\u001b[0m\u001b[0;34m\u001b[0m\u001b[0m\n\u001b[0m\u001b[1;32m    417\u001b[0m             \u001b[0mown_fid\u001b[0m \u001b[0;34m=\u001b[0m \u001b[0;32mTrue\u001b[0m\u001b[0;34m\u001b[0m\u001b[0;34m\u001b[0m\u001b[0m\n\u001b[1;32m    418\u001b[0m \u001b[0;34m\u001b[0m\u001b[0m\n",
            "\u001b[0;31mFileNotFoundError\u001b[0m: [Errno 2] No such file or directory: '/content/drive/MyDrive/MRNet-v1.0/MRNet-v1.0/train/axial/0000.npy'"
          ]
        }
      ]
    },
    {
      "cell_type": "code",
      "metadata": {
        "id": "vfNzwcgbcGIK"
      },
      "source": [
        "# Visualize np array, axial 0000\n",
        "imgplot = plt.imshow(axial0000[4])"
      ],
      "execution_count": null,
      "outputs": []
    },
    {
      "cell_type": "code",
      "metadata": {
        "id": "wMoFhUOlcgOJ"
      },
      "source": [
        "# Visualize axial 1152 array\n",
        "imgplot1 = plt.imshow(np.load('/content/drive/MyDrive/MRNet-v1.0/MRNet-v1.0/valid/axial/1152.npy')[0])"
      ],
      "execution_count": null,
      "outputs": []
    },
    {
      "cell_type": "markdown",
      "metadata": {
        "id": "fhuHQEdOT4o4"
      },
      "source": [
        "# Train Labels & Dataset"
      ]
    },
    {
      "cell_type": "code",
      "metadata": {
        "id": "7ODoJUd2l_0T"
      },
      "source": [
        "# LOADING DATA\n",
        "train_data = []\n",
        "test_data = []"
      ],
      "execution_count": null,
      "outputs": []
    },
    {
      "cell_type": "code",
      "metadata": {
        "id": "uEjcVqfamBc3"
      },
      "source": [
        "for x in os.listdir(r'/content/drive/MyDrive/MRNet-v1.0/MRNet-v1.0/train/axial/'):\n",
        "    try:\n",
        "        train_data.append([np.load(r'/content/drive/MyDrive/MRNet-v1.0/MRNet-v1.0/train/axial/'+x),\n",
        "                          np.load(r'/content/drive/MyDrive/MRNet-v1.0/MRNet-v1.0/train/coronal/'+x),\n",
        "                          np.load(r'/content/drive/MyDrive/MRNet-v1.0/MRNet-v1.0/train/sagittal/'+x)])\n",
        "    except:\n",
        "        print(x)\n",
        "for x in os.listdir(r'/content/drive/MyDrive/MRNet-v1.0/MRNet-v1.0/valid/axial/'):\n",
        "    try:\n",
        "        test_data.append([np.load(r'/content/drive/MyDrive/MRNet-v1.0/MRNet-v1.0/valid/axial/'+x),\n",
        "                          np.load(r'/content/drive/MyDrive/MRNet-v1.0/MRNet-v1.0/valid/coronal/'+x),\n",
        "                          np.load(r'/content/drive/MyDrive/MRNet-v1.0/MRNet-v1.0/valid/sagittal/'+x)])\n",
        "    except:\n",
        "        print(x)"
      ],
      "execution_count": null,
      "outputs": []
    },
    {
      "cell_type": "code",
      "metadata": {
        "id": "RX4uZtezmOQ6"
      },
      "source": [
        "# Plot train_data - first [] represents each patient - second [] represents axial, coronal, or sagittal in that order - third [] represents layer\n",
        "imgplot = plt.imshow(train_data[0][0][0])"
      ],
      "execution_count": null,
      "outputs": []
    },
    {
      "cell_type": "code",
      "metadata": {
        "id": "GlxJcniZmPm0"
      },
      "source": [
        "# Plot test_data - first [] represents each patient - second [] represents axial, coronal, or sagittal in that order - third [] represents layer\n",
        "imgplot = plt.imshow(test_data[0][0][0])"
      ],
      "execution_count": null,
      "outputs": []
    },
    {
      "cell_type": "code",
      "metadata": {
        "id": "xFrvfyFVmTGq"
      },
      "source": [
        "len(train_data), len(test_data)"
      ],
      "execution_count": null,
      "outputs": []
    },
    {
      "cell_type": "code",
      "metadata": {
        "id": "bXQer0ykmVo7"
      },
      "source": [
        "# LOADING LABELS FROM CSV\n",
        "train_ab_csv = pd.read_csv(r'/content/drive/MyDrive/MRNet-v1.0/MRNet-v1.0/train-abnormal.csv', index_col=0)\n",
        "train_acl_csv = pd.read_csv(r'/content/drive/MyDrive/MRNet-v1.0/MRNet-v1.0/train-acl.csv', index_col=0)\n",
        "train_meni_csv = pd.read_csv(r'/content/drive/MyDrive/MRNet-v1.0/MRNet-v1.0/train-meniscus.csv', index_col=0)\n",
        "test_ab_csv = pd.read_csv(r'/content/drive/MyDrive/MRNet-v1.0/MRNet-v1.0/valid-abnormal.csv', index_col=0)\n",
        "test_acl_csv = pd.read_csv(r'/content/drive/MyDrive/MRNet-v1.0/MRNet-v1.0/valid-acl.csv', index_col=0)\n",
        "test_meni_csv = pd.read_csv(r'/content/drive/MyDrive/MRNet-v1.0/MRNet-v1.0/valid-meniscus.csv', index_col=0)"
      ],
      "execution_count": null,
      "outputs": []
    },
    {
      "cell_type": "code",
      "metadata": {
        "id": "pFbptpkPmXHQ"
      },
      "source": [
        "train_labels = []\n",
        "test_labels = []"
      ],
      "execution_count": null,
      "outputs": []
    },
    {
      "cell_type": "code",
      "metadata": {
        "id": "Chxp3maKgaIX"
      },
      "source": [
        "for x in range(1129):\n",
        "  train_labels.append([tf.squeeze(train_ab_csv.values).numpy()[x], tf.squeeze(train_acl_csv.values).numpy()[x], tf.squeeze(train_meni_csv.values).numpy()[x]])\n",
        "for x in range(119):\n",
        "  test_labels.append([tf.squeeze(test_ab_csv.values).numpy()[x], tf.squeeze(test_acl_csv.values).numpy()[x], tf.squeeze(test_meni_csv.values).numpy()[x]])"
      ],
      "execution_count": null,
      "outputs": []
    },
    {
      "cell_type": "code",
      "metadata": {
        "id": "MM4JpxI5hfPr"
      },
      "source": [
        "train_labels[:3], test_labels[:3]"
      ],
      "execution_count": null,
      "outputs": []
    },
    {
      "cell_type": "markdown",
      "metadata": {
        "id": "aCfECAjWShdH"
      },
      "source": [
        "# Model"
      ]
    },
    {
      "cell_type": "code",
      "metadata": {
        "id": "SuPun7LxSljF"
      },
      "source": [
        "model = tf.keras.sequential([\n",
        "                             \n",
        "])"
      ],
      "execution_count": null,
      "outputs": []
    },
    {
      "cell_type": "code",
      "metadata": {
        "id": "t-1ei3_fTGS7"
      },
      "source": [
        "#Compile model\n",
        "model.compile(loss=tf.keras.losses.SparseCategoricalCrossentropy(),\n",
        "              optimizer=tf.keras.optimizers.Adam(lr=0.001),\n",
        "              metrics=[\"accuracy\"])"
      ],
      "execution_count": null,
      "outputs": []
    },
    {
      "cell_type": "code",
      "metadata": {
        "id": "qIKYyihETNTF"
      },
      "source": [
        "#Train the model\n",
        "model.fit(train_images, train_labels, epochs=10)"
      ],
      "execution_count": null,
      "outputs": []
    },
    {
      "cell_type": "code",
      "metadata": {
        "id": "GoOFQPAwWT0m"
      },
      "source": [
        "#Evaluate the model\n",
        "test_loss, test_acc = model.evaluate(test_images,  test_labels, verbose=1) \n",
        "\n",
        "print('Test accuracy:', test_acc)"
      ],
      "execution_count": null,
      "outputs": []
    },
    {
      "cell_type": "code",
      "metadata": {
        "id": "D0b6GLVSfSqp"
      },
      "source": [
        "# example of a multi-label classification task\n",
        "from sklearn.datasets import make_multilabel_classification\n",
        "# define dataset\n",
        "X, y = make_multilabel_classification(n_samples=1000, n_features=10, n_classes=3, n_labels=2, random_state=1)\n",
        "# summarize dataset shape\n",
        "print(X.shape, y.shape)\n",
        "# summarize first few examples\n",
        "for i in range(10):\n",
        "\tprint(X[i], y[i])"
      ],
      "execution_count": null,
      "outputs": []
    },
    {
      "cell_type": "code",
      "metadata": {
        "id": "eozsxeQifwW4"
      },
      "source": [
        "y[0]"
      ],
      "execution_count": null,
      "outputs": []
    },
    {
      "cell_type": "code",
      "metadata": {
        "id": "cd91MB29fyk7"
      },
      "source": [
        ""
      ],
      "execution_count": null,
      "outputs": []
    }
  ]
}